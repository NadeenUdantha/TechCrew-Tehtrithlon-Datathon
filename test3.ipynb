{
 "cells": [
  {
   "cell_type": "code",
   "execution_count": 72,
   "id": "5dc0b03f-847b-4b81-bd9c-1cef824150e0",
   "metadata": {},
   "outputs": [],
   "source": [
    "import csv\n",
    "import os\n",
    "import tensorflow as tf\n",
    "import keras\n",
    "from keras import layers\n",
    "import sklearn.model_selection\n",
    "import numpy as np\n",
    "import math\n",
    "\n",
    "tf.config.set_visible_devices([], 'GPU')\n"
   ]
  },
  {
   "cell_type": "code",
   "execution_count": 73,
   "id": "c1b485cc-a376-419b-9f65-2563f2aa0a1e",
   "metadata": {},
   "outputs": [
    {
     "name": "stdout",
     "output_type": "stream",
     "text": [
      "10000 68 157\n"
     ]
    }
   ],
   "source": [
    "u = csv.DictReader(open('u.csv', encoding='utf8'))\n",
    "# print(u.fieldnames)\n",
    "\n",
    "xs = []\n",
    "for x in u:\n",
    "    a = eval(x['Preferred Activities'])\n",
    "    a = list(map(lambda x: x.strip(), a))\n",
    "    d = eval(x['Bucket list destinations Sri Lanka'])\n",
    "    d = list(map(lambda x: x.strip(), d))\n",
    "    # print(a, d)\n",
    "    xs.append((a, d))\n",
    "\n",
    "# xs = xs[:10]\n",
    "\n",
    "ks = list(set([x for a, d in xs for x in a]))\n",
    "ks.sort()\n",
    "vs = list(set([x for a, d in xs for x in d]))\n",
    "vs.sort()\n",
    "print(len(xs), len(ks), len(vs))\n"
   ]
  },
  {
   "cell_type": "code",
   "execution_count": 74,
   "id": "43bc8b08-9ecb-496a-b584-7ef97c7e9573",
   "metadata": {},
   "outputs": [
    {
     "name": "stdout",
     "output_type": "stream",
     "text": [
      "343 2.439213673429212 0.5899450208665175 3.056359854247776\n"
     ]
    }
   ],
   "source": [
    "p = csv.DictReader(open('p.csv',encoding='utf8'))\n",
    "# print(u.fieldnames)\n",
    "\n",
    "ps = {}\n",
    "for x in p:\n",
    "    n = x['name'].strip()\n",
    "    if not (x['rating'] and x['user_ratings_total']):\n",
    "        continue\n",
    "    r = float(x['rating'])\n",
    "    t = int(x['user_ratings_total'])\n",
    "    t = math.log10(t)\n",
    "    ps[n] = math.log(r*t)\n",
    "\n",
    "ar = sum(ps.values())/len(ps)\n",
    "print(len(ps),ar,min(ps.values()),max(ps.values()))\n",
    "\n",
    "#print(vs)\n",
    "#print(ps)\n",
    "psx = np.array([ps[v] if v in ps else ar for v in vs])+1\n",
    "#print(psx)\n"
   ]
  },
  {
   "cell_type": "code",
   "execution_count": 75,
   "id": "23e6d385-7604-4306-86fa-b7efebfa2324",
   "metadata": {},
   "outputs": [
    {
     "name": "stdout",
     "output_type": "stream",
     "text": [
      "Model: \"sequential_5\"\n",
      "_________________________________________________________________\n",
      " Layer (type)                Output Shape              Param #   \n",
      "=================================================================\n",
      " dense_5 (Dense)             (None, 157)               10676     \n",
      "                                                                 \n",
      " lambda_5 (Lambda)           (None, 157)               0         \n",
      "                                                                 \n",
      "=================================================================\n",
      "Total params: 10,676\n",
      "Trainable params: 10,676\n",
      "Non-trainable params: 0\n",
      "_________________________________________________________________\n"
     ]
    }
   ],
   "source": [
    "model = keras.Sequential()\n",
    "model.add(layers.InputLayer(input_shape=(len(ks),)))\n",
    "model.add(layers.Dense(units=len(vs), use_bias=False, kernel_initializer='zeros'))\n",
    "# model.add(layers.Dense(units=128))\n",
    "# model.add(layers.Dense(units=128))\n",
    "model.add(layers.Lambda(lambda x: x*psx))\n",
    "# model.add(layers.Reshape(target_shape=(len(ks), 1)))\n",
    "# model.add()\n",
    "\n",
    "#model.compile(optimizer='adam', loss='mse')\n",
    "#model.fit(gen(traind, 0), steps_per_epoch=len(traind), epochs=1000, callbacks=[tensorboard_callback])\n",
    "\n",
    "model.summary()\n"
   ]
  },
  {
   "cell_type": "code",
   "execution_count": 76,
   "id": "7bbc7d03-4127-4c12-a07c-56dd11559237",
   "metadata": {},
   "outputs": [],
   "source": [
    "#model.set_weights([np.array([[0, 0, 0, 0, 0],[0, 0, 0, 0, 0,],[1, 0, 0, 0, 0]])])"
   ]
  },
  {
   "cell_type": "code",
   "execution_count": 77,
   "id": "fff16702-c86b-49a4-9ce5-98683b751c3b",
   "metadata": {},
   "outputs": [
    {
     "name": "stdout",
     "output_type": "stream",
     "text": [
      "[array([[0.00429185, 0.01287554, 0.02575107, ..., 0.05150215, 0.07725322,\n",
      "        0.03433476],\n",
      "       [0.02427185, 0.01456311, 0.02912621, ..., 0.05825243, 0.9223301 ,\n",
      "        0.00970874],\n",
      "       [0.00403226, 0.01612903, 0.01209677, ..., 0.03629032, 0.08870968,\n",
      "        0.03225806],\n",
      "       ...,\n",
      "       [0.01578948, 0.01052632, 0.04736842, ..., 0.931579  , 1.        ,\n",
      "        0.03157895],\n",
      "       [0.02033898, 0.01016949, 0.02372881, ..., 0.04067796, 0.10508475,\n",
      "        0.0440678 ],\n",
      "       [0.02583026, 0.01107011, 0.01845019, ..., 0.05166052, 0.12546125,\n",
      "        0.02214022]], dtype=float32)]\n"
     ]
    }
   ],
   "source": [
    "ws = model.get_weights()[0]\n",
    "ws[:, :] = 0\n",
    "for a, d in xs:\n",
    "    for aa in a:\n",
    "        for dd in d:\n",
    "            # print(a,aa,dd,ks.index(aa),vs.index(dd))\n",
    "            ws[ks.index(aa)][vs.index(dd)] += 1\n",
    "\n",
    "ws = sklearn.preprocessing.minmax_scale(ws, axis=1)\n",
    "\n",
    "model.set_weights([ws])\n",
    "print(model.get_weights())\n"
   ]
  },
  {
   "cell_type": "code",
   "execution_count": 78,
   "id": "bdea3423-b84b-4902-8d4f-73c279b6346c",
   "metadata": {},
   "outputs": [],
   "source": [
    "def f(i):\n",
    "    # print(i)\n",
    "    i = [1 if k in i else 0 for k in ks]\n",
    "    o = model.call(inputs=tf.convert_to_tensor([i]))\n",
    "    o = tf.math.top_k(o, k=5)\n",
    "    # print(o.values.numpy().tolist()[0])\n",
    "    o = o.indices.numpy().tolist()[0]\n",
    "    o = [vs[i] for i in o]\n",
    "    # print(o)\n",
    "    return o\n",
    "\n",
    "\n",
    "def g(z):\n",
    "    a, b, c = z\n",
    "    abc = f([a, b, c])\n",
    "    # return abc\n",
    "    for x in [c, b, a]:\n",
    "        x = f([x])[0]\n",
    "        if x not in abc:\n",
    "            abc.insert(0, x)\n",
    "    return abc[:5]\n"
   ]
  },
  {
   "cell_type": "code",
   "execution_count": 83,
   "id": "fdd947c8",
   "metadata": {},
   "outputs": [
    {
     "name": "stdout",
     "output_type": "stream",
     "text": [
      "['hot springs'] ['Madunagala Hot Water Spring', 'Kanniya Hot Springs', 'Mahapelessa Hot Springs', 'Maha Oya Hot Water Springs', 'Sigiriya']\n",
      "['elephant rides'] ['Udawalawe', 'Pinnawala', 'Sigiriya', 'Mirissa Beach', 'Trincomalee']\n",
      "['museum visits'] ['Colombo National Museum', 'Ratnapura Gem Museum', 'Kandy National Museum', 'National Museum Galle', 'Folk Museum']\n",
      "['waterfalls'] ['Diyaluma Falls', \"St Clair's Falls\", 'Bambarakiri Ella', 'Bambarakanda Falls', 'Bopath Falls']\n",
      "['hot springs', 'elephant rides', 'waterfalls'] ['Madunagala Hot Water Spring', 'Diyaluma Falls', 'Udawalawe', 'Pinnawala', 'Kanniya Hot Springs']\n",
      "['cycling', 'historical monuments', 'village homestays'] ['Ella', 'Anuradhapura', 'Hatton', 'Haputale', 'Polonnaruwa']\n"
     ]
    }
   ],
   "source": [
    "def t(x):\n",
    "    if len(x) == 1:\n",
    "        z = f(x)\n",
    "    else:\n",
    "        z = g(x)\n",
    "    print(x, z)\n",
    "\n",
    "\n",
    "t(['hot springs'])\n",
    "t(['elephant rides'])\n",
    "t(['museum visits'])\n",
    "t(['waterfalls'])\n",
    "t(['hot springs', 'elephant rides', 'waterfalls'])\n",
    "t(['cycling', 'historical monuments', 'village homestays'])\n"
   ]
  },
  {
   "cell_type": "code",
   "execution_count": 80,
   "id": "85c0f682",
   "metadata": {},
   "outputs": [
    {
     "name": "stderr",
     "output_type": "stream",
     "text": [
      "100%|███████████████████████████████████████████████████████████████████████████| 10000/10000 [00:38<00:00, 261.86it/s]\n"
     ]
    }
   ],
   "source": [
    "import tqdm\n",
    "\n",
    "zs = {}\n",
    "for a, d in tqdm.tqdm(xs):\n",
    "    v = len(set(g(a)).intersection(set(d)))\n",
    "    if v not in zs:\n",
    "        zs[v] = 0\n",
    "    zs[v] += 1\n"
   ]
  },
  {
   "cell_type": "code",
   "execution_count": 81,
   "id": "f117c801",
   "metadata": {},
   "outputs": [
    {
     "data": {
      "text/plain": [
       "{5: 263, 3: 3307, 2: 3137, 4: 1641, 1: 1401, 0: 251}"
      ]
     },
     "execution_count": 81,
     "metadata": {},
     "output_type": "execute_result"
    }
   ],
   "source": [
    "zs"
   ]
  },
  {
   "cell_type": "code",
   "execution_count": 82,
   "id": "67197ac6",
   "metadata": {},
   "outputs": [
    {
     "data": {
      "text/plain": [
       "50.949999999999996"
      ]
     },
     "execution_count": 82,
     "metadata": {},
     "output_type": "execute_result"
    }
   ],
   "source": [
    "sum([(k)*v for k, v in zs.items()])/sum(zs.values())/5*100"
   ]
  }
 ],
 "metadata": {
  "kernelspec": {
   "display_name": "Python 3 (ipykernel)",
   "language": "python",
   "name": "python3"
  },
  "language_info": {
   "codemirror_mode": {
    "name": "ipython",
    "version": 3
   },
   "file_extension": ".py",
   "mimetype": "text/x-python",
   "name": "python",
   "nbconvert_exporter": "python",
   "pygments_lexer": "ipython3",
   "version": "3.9.0"
  }
 },
 "nbformat": 4,
 "nbformat_minor": 5
}
