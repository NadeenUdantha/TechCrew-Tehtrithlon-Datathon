{
 "cells": [
  {
   "cell_type": "code",
   "execution_count": 1,
   "id": "5dc0b03f-847b-4b81-bd9c-1cef824150e0",
   "metadata": {},
   "outputs": [],
   "source": [
    "import csv\n",
    "import os\n",
    "import tensorflow as tf\n",
    "import keras\n",
    "from keras import layers, models\n",
    "import sklearn.model_selection\n",
    "import numpy as np\n",
    "import math\n",
    "\n",
    "tf.config.set_visible_devices([], 'GPU')\n"
   ]
  },
  {
   "cell_type": "code",
   "execution_count": 2,
   "id": "c1b485cc-a376-419b-9f65-2563f2aa0a1e",
   "metadata": {},
   "outputs": [
    {
     "name": "stdout",
     "output_type": "stream",
     "text": [
      "10000 68 157\n"
     ]
    }
   ],
   "source": [
    "\n",
    "user_data = csv.DictReader(open('u.csv', encoding='utf8'))\n",
    "\n",
    "activity_destination_pairs = []\n",
    "for row in user_data:\n",
    "    activities = eval(row['Preferred Activities'])\n",
    "    activities = list(map(lambda activity: activity.strip(), activities))\n",
    "\n",
    "    destinations = eval(row['Bucket list destinations Sri Lanka'])\n",
    "    destinations = list(map(lambda destination: destination.strip(), destinations))\n",
    "\n",
    "    activity_destination_pairs.append((activities, destinations))\n",
    "\n",
    "unique_activities = list(set([activity for activities, _ in activity_destination_pairs for activity in activities]))\n",
    "unique_activities.sort()\n",
    "\n",
    "unique_destinations = list(set([destination for _, destinations in activity_destination_pairs for destination in destinations]))\n",
    "unique_destinations.sort()\n",
    "\n",
    "print(len(activity_destination_pairs), len(unique_activities), len(unique_destinations))\n"
   ]
  },
  {
   "cell_type": "code",
   "execution_count": 3,
   "id": "43bc8b08-9ecb-496a-b584-7ef97c7e9573",
   "metadata": {},
   "outputs": [],
   "source": [
    "review_scores_data = csv.DictReader(open('review_scores.csv', encoding='utf8'))\n",
    "\n",
    "review_scores = {}\n",
    "for row in review_scores_data:\n",
    "    place_name = row['name'].strip()\n",
    "    scores = eval(row['scores'])\n",
    "    review_scores[place_name] = sum(scores)/len(scores)\n",
    "\n",
    "place_data = csv.DictReader(open('p.csv', encoding='utf8'))\n",
    "\n",
    "place_ratings = {}\n",
    "for row in place_data:\n",
    "    place_name = row['name'].strip()\n",
    "    if not (row['rating'] and row['user_ratings_total']):\n",
    "        continue\n",
    "\n",
    "    rating = float(row['rating'])\n",
    "    total_ratings = int(row['user_ratings_total'])\n",
    "    total_ratings = math.log10(total_ratings)\n",
    "    review_score = review_scores.get(place_name, 1)\n",
    "\n",
    "    place_ratings[place_name] = [rating, total_ratings, review_score]\n",
    "\n",
    "place_score_array = np.array([place_ratings[place] if place in place_ratings else [5, 0, 1] for place in unique_destinations])\n",
    "place_score_array = sklearn.preprocessing.minmax_scale(place_score_array, axis=0)\n",
    "# print(place_score_array)\n"
   ]
  },
  {
   "cell_type": "code",
   "execution_count": 4,
   "id": "424661b4",
   "metadata": {},
   "outputs": [
    {
     "name": "stdout",
     "output_type": "stream",
     "text": [
      "6400 1600 2000\n"
     ]
    }
   ],
   "source": [
    "\n",
    "def get_rating(place_index):\n",
    "    rating, total_ratings, review_score = place_score_array[place_index]\n",
    "    if total_ratings == 0:\n",
    "        total_ratings = 1\n",
    "    return rating*total_ratings*review_score\n",
    "\n",
    "\n",
    "data_X = []\n",
    "data_Y = []\n",
    "\n",
    "activity_destination_weights = np.zeros(shape=(len(unique_activities), len(unique_destinations)))\n",
    "\n",
    "for activities, destinations in activity_destination_pairs:\n",
    "    for activity in activities:\n",
    "        for destination in destinations:\n",
    "            activity_destination_weights[unique_activities.index(activity)][unique_destinations.index(destination)] += 1\n",
    "\n",
    "activity_destination_weights = sklearn.preprocessing.minmax_scale(activity_destination_weights, axis=1)\n",
    "# print(activity_destination_weights)\n",
    "\n",
    "for activities, destinations in activity_destination_pairs:\n",
    "    X = [1 if activity in activities else 0 for activity in unique_activities]\n",
    "    Ys = []\n",
    "    for activity in activities:\n",
    "        i = unique_activities.index(activity)\n",
    "        Ys.append(activity_destination_weights[i])\n",
    "    Y = np.sum(Ys, axis=0)\n",
    "    data_X.append(X)\n",
    "    data_Y.append(Y)\n",
    "\n",
    "\n",
    "data_X = np.array(data_X)\n",
    "data_Y = np.array(data_Y)\n",
    "\n",
    "\n",
    "train_X, test_X, train_Y, test_Y = sklearn.model_selection.train_test_split(data_X, data_Y, test_size=0.20)\n",
    "train_X, val_X, train_Y, val_Y = sklearn.model_selection.train_test_split(train_X, train_Y, test_size=0.20)\n",
    "\n",
    "\n",
    "print(len(train_X), len(val_X), len(test_X))\n"
   ]
  },
  {
   "cell_type": "code",
   "execution_count": 5,
   "id": "a5e47bdf",
   "metadata": {},
   "outputs": [
    {
     "name": "stdout",
     "output_type": "stream",
     "text": [
      "Model: \"sequential\"\n",
      "_________________________________________________________________\n",
      " Layer (type)                Output Shape              Param #   \n",
      "=================================================================\n",
      " dense (Dense)               (None, 512)               35328     \n",
      "                                                                 \n",
      " dense_1 (Dense)             (None, 157)               80541     \n",
      "                                                                 \n",
      "=================================================================\n",
      "Total params: 115,869\n",
      "Trainable params: 115,869\n",
      "Non-trainable params: 0\n",
      "_________________________________________________________________\n",
      "Epoch 1/10\n",
      "200/200 [==============================] - 1s 3ms/step - loss: 0.0122 - accuracy: 0.7153 - val_loss: 1.9734e-07 - val_accuracy: 0.9950\n",
      "Epoch 2/10\n",
      "200/200 [==============================] - 0s 2ms/step - loss: 1.1325e-08 - accuracy: 0.9992 - val_loss: 6.1137e-15 - val_accuracy: 1.0000\n",
      "Epoch 3/10\n",
      "200/200 [==============================] - 0s 2ms/step - loss: 2.5863e-15 - accuracy: 1.0000 - val_loss: 1.8174e-15 - val_accuracy: 1.0000\n",
      "Epoch 4/10\n",
      "200/200 [==============================] - 0s 2ms/step - loss: 1.6192e-15 - accuracy: 1.0000 - val_loss: 1.5085e-15 - val_accuracy: 1.0000\n",
      "Epoch 5/10\n",
      "200/200 [==============================] - 0s 2ms/step - loss: 1.4244e-15 - accuracy: 1.0000 - val_loss: 1.3756e-15 - val_accuracy: 1.0000\n",
      "Epoch 6/10\n",
      "200/200 [==============================] - 0s 2ms/step - loss: 1.3319e-15 - accuracy: 1.0000 - val_loss: 1.3207e-15 - val_accuracy: 1.0000\n",
      "Epoch 7/10\n",
      "200/200 [==============================] - 0s 2ms/step - loss: 1.3113e-15 - accuracy: 1.0000 - val_loss: 1.3275e-15 - val_accuracy: 1.0000\n",
      "Epoch 8/10\n",
      "200/200 [==============================] - 0s 2ms/step - loss: 1.3195e-15 - accuracy: 1.0000 - val_loss: 1.3280e-15 - val_accuracy: 1.0000\n",
      "Epoch 9/10\n",
      "200/200 [==============================] - 0s 2ms/step - loss: 1.3441e-15 - accuracy: 1.0000 - val_loss: 1.3582e-15 - val_accuracy: 1.0000\n",
      "Epoch 10/10\n",
      "200/200 [==============================] - 0s 2ms/step - loss: 1.3726e-15 - accuracy: 1.0000 - val_loss: 1.3897e-15 - val_accuracy: 1.0000\n"
     ]
    },
    {
     "data": {
      "image/png": "[encoded data removed]",
      "text/plain": [
       "<Figure size 1200x400 with 2 Axes>"
      ]
     },
     "metadata": {},
     "output_type": "display_data"
    }
   ],
   "source": [
    "import matplotlib.pyplot as plt\n",
    "from tensorflow.keras.callbacks import EarlyStopping\n",
    "\n",
    "model = keras.Sequential([\n",
    "    layers.Input(shape=(len(unique_activities),)),\n",
    "    layers.Dense(units=512),\n",
    "    layers.Dense(units=len(unique_destinations)),\n",
    "])\n",
    "\n",
    "model.compile(optimizer='adam', loss='mse', metrics=['accuracy'])\n",
    "model.summary()\n",
    "\n",
    "history = model.fit(train_X, train_Y, validation_data=(val_X, val_Y), epochs=10)\n",
    "\n",
    "plt.figure(figsize=(12, 4))\n",
    "\n",
    "plt.subplot(1, 2, 1)\n",
    "plt.plot(history.history['loss'], label='Training Loss')\n",
    "plt.plot(history.history['val_loss'], label='Validation Loss')\n",
    "plt.title('Model Loss')\n",
    "plt.xlabel('Epoch')\n",
    "plt.ylabel('Loss')\n",
    "plt.legend()\n",
    "\n",
    "plt.subplot(1, 2, 2)\n",
    "plt.plot(history.history['accuracy'], label='Training Accuracy')\n",
    "plt.plot(history.history['val_accuracy'], label='Validation Accuracy')\n",
    "plt.title('Model Accuracy')\n",
    "plt.xlabel('Epoch')\n",
    "plt.ylabel('Accuracy')\n",
    "plt.legend()\n",
    "\n",
    "plt.tight_layout()\n",
    "plt.show()\n"
   ]
  },
  {
   "cell_type": "code",
   "execution_count": 19,
   "id": "7fdde063",
   "metadata": {},
   "outputs": [
    {
     "name": "stdout",
     "output_type": "stream",
     "text": [
      "63/63 [==============================] - 0s 1ms/step - loss: 1.3802e-15 - accuracy: 1.0000\n",
      "test loss, test acc: [1.3802014357935455e-15, 1.0]\n"
     ]
    }
   ],
   "source": [
    "\n",
    "results = model.evaluate(test_X, test_Y)\n",
    "print(\"test loss, test acc:\", results)\n"
   ]
  },
  {
   "cell_type": "code",
   "execution_count": 14,
   "id": "dedc3b8c",
   "metadata": {},
   "outputs": [
    {
     "name": "stdout",
     "output_type": "stream",
     "text": [
      "hot springs {'Madunagala Hot Water Spring': 1.02, 'Kanniya Hot Springs': 1.0, 'Maha Oya Hot Water Springs': 1.0, 'Mahapelessa Hot Springs': 0.97, 'Sigiriya': 0.37}\n",
      "elephant rides {'Pinnawala': 1.03, 'Udawalawe': 1.03, 'Sigiriya': 0.4, 'Trincomalee': 0.35, 'Mirissa Beach': 0.34}\n",
      "museum visits {'Kandy National Museum': 1.03, 'Ratnapura Gem Museum': 0.99, 'National Museum Galle': 0.99, 'Folk Museum': 0.92, 'Colombo National Museum': 0.89}\n",
      "waterfalls {\"St Clair's Falls\": 1.03, 'Ravan Ella Waterfall': 0.97, 'Diyaluma Falls': 0.95, 'Bambarakiri Ella': 0.94, 'Bambarakanda Falls': 0.91}\n",
      "hot springs, elephant rides, waterfalls {'Madunagala Hot Water Spring': 1.08, 'Udawalawe': 1.07, 'Maha Oya Hot Water Springs': 1.07, 'Pinnawala': 1.05, 'Kanniya Hot Springs': 1.04}\n",
      "cycling, historical monuments, village homestays {'Ella': 2.02, 'Anuradhapura': 1.3, 'Hatton': 1.15, 'Haputale': 1.13, 'Polonnaruwa': 1.04}\n"
     ]
    }
   ],
   "source": [
    "def predict_and_print(activities):\n",
    "    activity_vector = [1 if activity in activities else 0 for activity in unique_activities]\n",
    "    output = model.call(inputs=tf.convert_to_tensor([activity_vector]))\n",
    "    top_predictions = tf.math.top_k(output, k=5)\n",
    "\n",
    "    prediction_scores = top_predictions.values.numpy().tolist()[0]\n",
    "    top_indices = top_predictions.indices.numpy().tolist()[0]\n",
    "\n",
    "    #prediction_scores = list(filter(lambda x: x > .5, prediction_scores))\n",
    "    predictions = [unique_destinations[idx] for idx in top_indices[:len(prediction_scores)]]\n",
    "\n",
    "    print(', '.join(activities), dict(zip(predictions, map(lambda score: round(score, 2), prediction_scores))))\n",
    "\n",
    "\n",
    "predict_and_print(['hot springs'])\n",
    "predict_and_print(['elephant rides'])\n",
    "predict_and_print(['museum visits'])\n",
    "predict_and_print(['waterfalls'])\n",
    "predict_and_print(['hot springs', 'elephant rides', 'waterfalls'])\n",
    "predict_and_print(['cycling', 'historical monuments', 'village homestays'])\n"
   ]
  }
 ],
 "metadata": {
  "kernelspec": {
   "display_name": "Python 3 (ipykernel)",
   "language": "python",
   "name": "python3"
  },
  "language_info": {
   "codemirror_mode": {
    "name": "ipython",
    "version": 3
   },
   "file_extension": ".py",
   "mimetype": "text/x-python",
   "name": "python",
   "nbconvert_exporter": "python",
   "pygments_lexer": "ipython3",
   "version": "3.9.0"
  }
 },
 "nbformat": 4,
 "nbformat_minor": 5
}
