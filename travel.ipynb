{
  "cells": [
    {
      "cell_type": "markdown",
      "metadata": {},
      "source": [
        "Import required libraries"
      ]
    },
    {
      "cell_type": "code",
      "execution_count": 10,
      "metadata": {
        "id": "J_ryff7kr8wm"
      },
      "outputs": [],
      "source": [
        "import pandas as pd\n",
        "import numpy as np\n",
        "from sklearn.model_selection import train_test_split\n",
        "from sklearn.preprocessing import MultiLabelBinarizer, StandardScaler\n",
        "from sklearn.metrics import classification_report, f1_score\n",
        "from tensorflow.keras.models import Sequential\n",
        "from tensorflow.keras.layers import Dense, Dropout, BatchNormalization\n",
        "from tensorflow.keras.optimizers import Adam\n",
        "from tensorflow.keras.callbacks import EarlyStopping, ReduceLROnPlateau\n",
        "import matplotlib.pyplot as plt"
      ]
    },
    {
      "cell_type": "markdown",
      "metadata": {},
      "source": [
        "Load and preprocess the data"
      ]
    },
    {
      "cell_type": "code",
      "execution_count": 2,
      "metadata": {
        "id": "r0WS3eJAzfhy"
      },
      "outputs": [
        {
          "name": "stdout",
          "output_type": "stream",
          "text": [
            "Data loaded successfully.\n",
            "Number of visitors: 10000\n",
            "Number of places: 411\n"
          ]
        }
      ],
      "source": [
        "def load_data(visitors_file, places_file):\n",
        "    visitors_df = pd.read_csv(visitors_file)\n",
        "    places_df = pd.read_csv(places_file)\n",
        "    \n",
        "    visitors_df['Preferred Activities'] = visitors_df['Preferred Activities'].apply(eval)\n",
        "    visitors_df['Bucket list destinations Sri Lanka'] = visitors_df['Bucket list destinations Sri Lanka'].apply(eval)\n",
        "    \n",
        "    return visitors_df, places_df\n",
        "\n",
        "visitors_file = 'u.csv'\n",
        "places_file = 'p.csv'\n",
        "visitors_df, places_df = load_data(visitors_file, places_file)\n",
        "\n",
        "print(\"Data loaded successfully.\")\n",
        "print(f\"Number of visitors: {len(visitors_df)}\")\n",
        "print(f\"Number of places: {len(places_df)}\")"
      ]
    },
    {
      "cell_type": "markdown",
      "metadata": {},
      "source": [
        "Data Diagnostics"
      ]
    },
    {
      "cell_type": "code",
      "execution_count": 3,
      "metadata": {},
      "outputs": [
        {
          "name": "stdout",
          "output_type": "stream",
          "text": [
            "\n",
            "Data Diagnostics:\n",
            "Sample of Preferred Activities: ['cycling', 'historical monuments', 'village homestays']\n",
            "Sample of Bucket list destinations: ['Polonnaruwa', 'Hatton', 'Anuradhapura', 'Ella', 'Haputale']\n",
            "Number of unique activities: 68\n",
            "Number of unique destinations: 157\n"
          ]
        }
      ],
      "source": [
        "print(\"\\nData Diagnostics:\")\n",
        "print(\"Sample of Preferred Activities:\", visitors_df['Preferred Activities'].iloc[0])\n",
        "print(\"Sample of Bucket list destinations:\", visitors_df['Bucket list destinations Sri Lanka'].iloc[0])\n",
        "print(\"Number of unique activities:\", len(set([item for sublist in visitors_df['Preferred Activities'] for item in sublist])))\n",
        "print(\"Number of unique destinations:\", len(set([item for sublist in visitors_df['Bucket list destinations Sri Lanka'] for item in sublist])))"
      ]
    },
    {
      "cell_type": "markdown",
      "metadata": {},
      "source": [
        "Data Preparation"
      ]
    },
    {
      "cell_type": "code",
      "execution_count": 4,
      "metadata": {
        "id": "myY8WNU52Kpp"
      },
      "outputs": [
        {
          "name": "stdout",
          "output_type": "stream",
          "text": [
            "\n",
            "Data prepared for model.\n",
            "Number of unique activities: 68\n",
            "Number of unique places: 157\n",
            "Shape of user_activities: (10000, 68)\n",
            "Shape of user_places: (10000, 157)\n",
            "Number of zero vectors in user_activities: 0\n",
            "Number of zero vectors in user_places: 0\n"
          ]
        }
      ],
      "source": [
        "def prepare_data(visitors_df, places_df):\n",
        "    activity_mlb = MultiLabelBinarizer()\n",
        "    user_activities = activity_mlb.fit_transform(visitors_df['Preferred Activities'])\n",
        "    \n",
        "    place_mlb = MultiLabelBinarizer()\n",
        "    user_places = place_mlb.fit_transform(visitors_df['Bucket list destinations Sri Lanka'])\n",
        "    \n",
        "    scaler = StandardScaler()\n",
        "    user_activities_scaled = scaler.fit_transform(user_activities)\n",
        "    \n",
        "    return user_activities_scaled, user_places, activity_mlb, place_mlb\n",
        "\n",
        "user_activities, user_places, activity_mlb, place_mlb = prepare_data(visitors_df, places_df)\n",
        "\n",
        "print(\"\\nData prepared for model.\")\n",
        "print(f\"Number of unique activities: {len(activity_mlb.classes_)}\")\n",
        "print(f\"Number of unique places: {len(place_mlb.classes_)}\")\n",
        "print(f\"Shape of user_activities: {user_activities.shape}\")\n",
        "print(f\"Shape of user_places: {user_places.shape}\")\n",
        "\n",
        "print(f\"Number of zero vectors in user_activities: {np.sum(np.all(user_activities == 0, axis=1))}\")\n",
        "print(f\"Number of zero vectors in user_places: {np.sum(np.all(user_places == 0, axis=1))}\")"
      ]
    },
    {
      "cell_type": "markdown",
      "metadata": {},
      "source": [
        "Train-Test Split"
      ]
    },
    {
      "cell_type": "code",
      "execution_count": 5,
      "metadata": {},
      "outputs": [
        {
          "name": "stdout",
          "output_type": "stream",
          "text": [
            "\n",
            "Data split into train, validation, and test sets.\n",
            "Training set size: 6400\n",
            "Validation set size: 1600\n",
            "Test set size: 2000\n"
          ]
        }
      ],
      "source": [
        "X_train, X_test, y_train, y_test = train_test_split(user_activities, user_places, test_size=0.2, random_state=42)\n",
        "X_train, X_val, y_train, y_val = train_test_split(X_train, y_train, test_size=0.2, random_state=42)\n",
        "\n",
        "print(\"\\nData split into train, validation, and test sets.\")\n",
        "print(f\"Training set size: {len(X_train)}\")\n",
        "print(f\"Validation set size: {len(X_val)}\")\n",
        "print(f\"Test set size: {len(X_test)}\")"
      ]
    },
    {
      "cell_type": "markdown",
      "metadata": {},
      "source": [
        "Model Creation"
      ]
    },
    {
      "cell_type": "code",
      "execution_count": 6,
      "metadata": {
        "id": "Z2OwT9GF2XG-"
      },
      "outputs": [
        {
          "name": "stderr",
          "output_type": "stream",
          "text": [
            "d:\\install\\envs\\ml_workshop\\lib\\site-packages\\keras\\src\\layers\\core\\dense.py:87: UserWarning: Do not pass an `input_shape`/`input_dim` argument to a layer. When using Sequential models, prefer using an `Input(shape)` object as the first layer in the model instead.\n",
            "  super().__init__(activity_regularizer=activity_regularizer, **kwargs)\n"
          ]
        },
        {
          "data": {
            "text/html": [
              "<pre style=\"white-space:pre;overflow-x:auto;line-height:normal;font-family:Menlo,'DejaVu Sans Mono',consolas,'Courier New',monospace\"><span style=\"font-weight: bold\">Model: \"sequential\"</span>\n",
              "</pre>\n"
            ],
            "text/plain": [
              "\u001b[1mModel: \"sequential\"\u001b[0m\n"
            ]
          },
          "metadata": {},
          "output_type": "display_data"
        },
        {
          "data": {
            "text/html": [
              "<pre style=\"white-space:pre;overflow-x:auto;line-height:normal;font-family:Menlo,'DejaVu Sans Mono',consolas,'Courier New',monospace\">┏━━━━━━━━━━━━━━━━━━━━━━━━━━━━━━━━━┳━━━━━━━━━━━━━━━━━━━━━━━━┳━━━━━━━━━━━━━━━┓\n",
              "┃<span style=\"font-weight: bold\"> Layer (type)                    </span>┃<span style=\"font-weight: bold\"> Output Shape           </span>┃<span style=\"font-weight: bold\">       Param # </span>┃\n",
              "┡━━━━━━━━━━━━━━━━━━━━━━━━━━━━━━━━━╇━━━━━━━━━━━━━━━━━━━━━━━━╇━━━━━━━━━━━━━━━┩\n",
              "│ dense (<span style=\"color: #0087ff; text-decoration-color: #0087ff\">Dense</span>)                   │ (<span style=\"color: #00d7ff; text-decoration-color: #00d7ff\">None</span>, <span style=\"color: #00af00; text-decoration-color: #00af00\">256</span>)            │        <span style=\"color: #00af00; text-decoration-color: #00af00\">17,664</span> │\n",
              "├─────────────────────────────────┼────────────────────────┼───────────────┤\n",
              "│ batch_normalization             │ (<span style=\"color: #00d7ff; text-decoration-color: #00d7ff\">None</span>, <span style=\"color: #00af00; text-decoration-color: #00af00\">256</span>)            │         <span style=\"color: #00af00; text-decoration-color: #00af00\">1,024</span> │\n",
              "│ (<span style=\"color: #0087ff; text-decoration-color: #0087ff\">BatchNormalization</span>)            │                        │               │\n",
              "├─────────────────────────────────┼────────────────────────┼───────────────┤\n",
              "│ dropout (<span style=\"color: #0087ff; text-decoration-color: #0087ff\">Dropout</span>)               │ (<span style=\"color: #00d7ff; text-decoration-color: #00d7ff\">None</span>, <span style=\"color: #00af00; text-decoration-color: #00af00\">256</span>)            │             <span style=\"color: #00af00; text-decoration-color: #00af00\">0</span> │\n",
              "├─────────────────────────────────┼────────────────────────┼───────────────┤\n",
              "│ dense_1 (<span style=\"color: #0087ff; text-decoration-color: #0087ff\">Dense</span>)                 │ (<span style=\"color: #00d7ff; text-decoration-color: #00d7ff\">None</span>, <span style=\"color: #00af00; text-decoration-color: #00af00\">128</span>)            │        <span style=\"color: #00af00; text-decoration-color: #00af00\">32,896</span> │\n",
              "├─────────────────────────────────┼────────────────────────┼───────────────┤\n",
              "│ batch_normalization_1           │ (<span style=\"color: #00d7ff; text-decoration-color: #00d7ff\">None</span>, <span style=\"color: #00af00; text-decoration-color: #00af00\">128</span>)            │           <span style=\"color: #00af00; text-decoration-color: #00af00\">512</span> │\n",
              "│ (<span style=\"color: #0087ff; text-decoration-color: #0087ff\">BatchNormalization</span>)            │                        │               │\n",
              "├─────────────────────────────────┼────────────────────────┼───────────────┤\n",
              "│ dropout_1 (<span style=\"color: #0087ff; text-decoration-color: #0087ff\">Dropout</span>)             │ (<span style=\"color: #00d7ff; text-decoration-color: #00d7ff\">None</span>, <span style=\"color: #00af00; text-decoration-color: #00af00\">128</span>)            │             <span style=\"color: #00af00; text-decoration-color: #00af00\">0</span> │\n",
              "├─────────────────────────────────┼────────────────────────┼───────────────┤\n",
              "│ dense_2 (<span style=\"color: #0087ff; text-decoration-color: #0087ff\">Dense</span>)                 │ (<span style=\"color: #00d7ff; text-decoration-color: #00d7ff\">None</span>, <span style=\"color: #00af00; text-decoration-color: #00af00\">64</span>)             │         <span style=\"color: #00af00; text-decoration-color: #00af00\">8,256</span> │\n",
              "├─────────────────────────────────┼────────────────────────┼───────────────┤\n",
              "│ batch_normalization_2           │ (<span style=\"color: #00d7ff; text-decoration-color: #00d7ff\">None</span>, <span style=\"color: #00af00; text-decoration-color: #00af00\">64</span>)             │           <span style=\"color: #00af00; text-decoration-color: #00af00\">256</span> │\n",
              "│ (<span style=\"color: #0087ff; text-decoration-color: #0087ff\">BatchNormalization</span>)            │                        │               │\n",
              "├─────────────────────────────────┼────────────────────────┼───────────────┤\n",
              "│ dropout_2 (<span style=\"color: #0087ff; text-decoration-color: #0087ff\">Dropout</span>)             │ (<span style=\"color: #00d7ff; text-decoration-color: #00d7ff\">None</span>, <span style=\"color: #00af00; text-decoration-color: #00af00\">64</span>)             │             <span style=\"color: #00af00; text-decoration-color: #00af00\">0</span> │\n",
              "├─────────────────────────────────┼────────────────────────┼───────────────┤\n",
              "│ dense_3 (<span style=\"color: #0087ff; text-decoration-color: #0087ff\">Dense</span>)                 │ (<span style=\"color: #00d7ff; text-decoration-color: #00d7ff\">None</span>, <span style=\"color: #00af00; text-decoration-color: #00af00\">157</span>)            │        <span style=\"color: #00af00; text-decoration-color: #00af00\">10,205</span> │\n",
              "└─────────────────────────────────┴────────────────────────┴───────────────┘\n",
              "</pre>\n"
            ],
            "text/plain": [
              "┏━━━━━━━━━━━━━━━━━━━━━━━━━━━━━━━━━┳━━━━━━━━━━━━━━━━━━━━━━━━┳━━━━━━━━━━━━━━━┓\n",
              "┃\u001b[1m \u001b[0m\u001b[1mLayer (type)                   \u001b[0m\u001b[1m \u001b[0m┃\u001b[1m \u001b[0m\u001b[1mOutput Shape          \u001b[0m\u001b[1m \u001b[0m┃\u001b[1m \u001b[0m\u001b[1m      Param #\u001b[0m\u001b[1m \u001b[0m┃\n",
              "┡━━━━━━━━━━━━━━━━━━━━━━━━━━━━━━━━━╇━━━━━━━━━━━━━━━━━━━━━━━━╇━━━━━━━━━━━━━━━┩\n",
              "│ dense (\u001b[38;5;33mDense\u001b[0m)                   │ (\u001b[38;5;45mNone\u001b[0m, \u001b[38;5;34m256\u001b[0m)            │        \u001b[38;5;34m17,664\u001b[0m │\n",
              "├─────────────────────────────────┼────────────────────────┼───────────────┤\n",
              "│ batch_normalization             │ (\u001b[38;5;45mNone\u001b[0m, \u001b[38;5;34m256\u001b[0m)            │         \u001b[38;5;34m1,024\u001b[0m │\n",
              "│ (\u001b[38;5;33mBatchNormalization\u001b[0m)            │                        │               │\n",
              "├─────────────────────────────────┼────────────────────────┼───────────────┤\n",
              "│ dropout (\u001b[38;5;33mDropout\u001b[0m)               │ (\u001b[38;5;45mNone\u001b[0m, \u001b[38;5;34m256\u001b[0m)            │             \u001b[38;5;34m0\u001b[0m │\n",
              "├─────────────────────────────────┼────────────────────────┼───────────────┤\n",
              "│ dense_1 (\u001b[38;5;33mDense\u001b[0m)                 │ (\u001b[38;5;45mNone\u001b[0m, \u001b[38;5;34m128\u001b[0m)            │        \u001b[38;5;34m32,896\u001b[0m │\n",
              "├─────────────────────────────────┼────────────────────────┼───────────────┤\n",
              "│ batch_normalization_1           │ (\u001b[38;5;45mNone\u001b[0m, \u001b[38;5;34m128\u001b[0m)            │           \u001b[38;5;34m512\u001b[0m │\n",
              "│ (\u001b[38;5;33mBatchNormalization\u001b[0m)            │                        │               │\n",
              "├─────────────────────────────────┼────────────────────────┼───────────────┤\n",
              "│ dropout_1 (\u001b[38;5;33mDropout\u001b[0m)             │ (\u001b[38;5;45mNone\u001b[0m, \u001b[38;5;34m128\u001b[0m)            │             \u001b[38;5;34m0\u001b[0m │\n",
              "├─────────────────────────────────┼────────────────────────┼───────────────┤\n",
              "│ dense_2 (\u001b[38;5;33mDense\u001b[0m)                 │ (\u001b[38;5;45mNone\u001b[0m, \u001b[38;5;34m64\u001b[0m)             │         \u001b[38;5;34m8,256\u001b[0m │\n",
              "├─────────────────────────────────┼────────────────────────┼───────────────┤\n",
              "│ batch_normalization_2           │ (\u001b[38;5;45mNone\u001b[0m, \u001b[38;5;34m64\u001b[0m)             │           \u001b[38;5;34m256\u001b[0m │\n",
              "│ (\u001b[38;5;33mBatchNormalization\u001b[0m)            │                        │               │\n",
              "├─────────────────────────────────┼────────────────────────┼───────────────┤\n",
              "│ dropout_2 (\u001b[38;5;33mDropout\u001b[0m)             │ (\u001b[38;5;45mNone\u001b[0m, \u001b[38;5;34m64\u001b[0m)             │             \u001b[38;5;34m0\u001b[0m │\n",
              "├─────────────────────────────────┼────────────────────────┼───────────────┤\n",
              "│ dense_3 (\u001b[38;5;33mDense\u001b[0m)                 │ (\u001b[38;5;45mNone\u001b[0m, \u001b[38;5;34m157\u001b[0m)            │        \u001b[38;5;34m10,205\u001b[0m │\n",
              "└─────────────────────────────────┴────────────────────────┴───────────────┘\n"
            ]
          },
          "metadata": {},
          "output_type": "display_data"
        },
        {
          "data": {
            "text/html": [
              "<pre style=\"white-space:pre;overflow-x:auto;line-height:normal;font-family:Menlo,'DejaVu Sans Mono',consolas,'Courier New',monospace\"><span style=\"font-weight: bold\"> Total params: </span><span style=\"color: #00af00; text-decoration-color: #00af00\">70,813</span> (276.61 KB)\n",
              "</pre>\n"
            ],
            "text/plain": [
              "\u001b[1m Total params: \u001b[0m\u001b[38;5;34m70,813\u001b[0m (276.61 KB)\n"
            ]
          },
          "metadata": {},
          "output_type": "display_data"
        },
        {
          "data": {
            "text/html": [
              "<pre style=\"white-space:pre;overflow-x:auto;line-height:normal;font-family:Menlo,'DejaVu Sans Mono',consolas,'Courier New',monospace\"><span style=\"font-weight: bold\"> Trainable params: </span><span style=\"color: #00af00; text-decoration-color: #00af00\">69,917</span> (273.11 KB)\n",
              "</pre>\n"
            ],
            "text/plain": [
              "\u001b[1m Trainable params: \u001b[0m\u001b[38;5;34m69,917\u001b[0m (273.11 KB)\n"
            ]
          },
          "metadata": {},
          "output_type": "display_data"
        },
        {
          "data": {
            "text/html": [
              "<pre style=\"white-space:pre;overflow-x:auto;line-height:normal;font-family:Menlo,'DejaVu Sans Mono',consolas,'Courier New',monospace\"><span style=\"font-weight: bold\"> Non-trainable params: </span><span style=\"color: #00af00; text-decoration-color: #00af00\">896</span> (3.50 KB)\n",
              "</pre>\n"
            ],
            "text/plain": [
              "\u001b[1m Non-trainable params: \u001b[0m\u001b[38;5;34m896\u001b[0m (3.50 KB)\n"
            ]
          },
          "metadata": {},
          "output_type": "display_data"
        }
      ],
      "source": [
        "def create_model(input_dim, output_dim):\n",
        "    model = Sequential([\n",
        "        Dense(256, activation='relu', input_shape=(input_dim,)),\n",
        "        BatchNormalization(),\n",
        "        Dropout(0.5),\n",
        "        Dense(128, activation='relu'),\n",
        "        BatchNormalization(),\n",
        "        Dropout(0.5),\n",
        "        Dense(64, activation='relu'),\n",
        "        BatchNormalization(),\n",
        "        Dropout(0.5),\n",
        "        Dense(output_dim, activation='sigmoid')\n",
        "    ])\n",
        "    \n",
        "    model.compile(optimizer=Adam(learning_rate=0.001),\n",
        "                  loss='binary_crossentropy',\n",
        "                  metrics=['accuracy'])\n",
        "    \n",
        "    return model\n",
        "\n",
        "model = create_model(X_train.shape[1], y_train.shape[1])\n",
        "model.summary()"
      ]
    },
    {
      "cell_type": "markdown",
      "metadata": {},
      "source": [
        "Training the Model"
      ]
    },
    {
      "cell_type": "code",
      "execution_count": 7,
      "metadata": {
        "id": "I5d7t5n52Z5D"
      },
      "outputs": [
        {
          "name": "stdout",
          "output_type": "stream",
          "text": [
            "Epoch 1/100\n",
            "\u001b[1m200/200\u001b[0m \u001b[32m━━━━━━━━━━━━━━━━━━━━\u001b[0m\u001b[37m\u001b[0m \u001b[1m6s\u001b[0m 8ms/step - accuracy: 0.0107 - loss: 0.7332 - val_accuracy: 0.0512 - val_loss: 0.2980 - learning_rate: 0.0010\n",
            "Epoch 2/100\n",
            "\u001b[1m200/200\u001b[0m \u001b[32m━━━━━━━━━━━━━━━━━━━━\u001b[0m\u001b[37m\u001b[0m \u001b[1m1s\u001b[0m 5ms/step - accuracy: 0.0188 - loss: 0.2554 - val_accuracy: 0.0431 - val_loss: 0.1327 - learning_rate: 0.0010\n",
            "Epoch 3/100\n",
            "\u001b[1m200/200\u001b[0m \u001b[32m━━━━━━━━━━━━━━━━━━━━\u001b[0m\u001b[37m\u001b[0m \u001b[1m1s\u001b[0m 5ms/step - accuracy: 0.0305 - loss: 0.1455 - val_accuracy: 0.0425 - val_loss: 0.1260 - learning_rate: 0.0010\n",
            "Epoch 4/100\n",
            "\u001b[1m200/200\u001b[0m \u001b[32m━━━━━━━━━━━━━━━━━━━━\u001b[0m\u001b[37m\u001b[0m \u001b[1m1s\u001b[0m 5ms/step - accuracy: 0.0332 - loss: 0.1386 - val_accuracy: 0.0525 - val_loss: 0.1224 - learning_rate: 0.0010\n",
            "Epoch 5/100\n",
            "\u001b[1m200/200\u001b[0m \u001b[32m━━━━━━━━━━━━━━━━━━━━\u001b[0m\u001b[37m\u001b[0m \u001b[1m1s\u001b[0m 5ms/step - accuracy: 0.0398 - loss: 0.1336 - val_accuracy: 0.0606 - val_loss: 0.1183 - learning_rate: 0.0010\n",
            "Epoch 6/100\n",
            "\u001b[1m200/200\u001b[0m \u001b[32m━━━━━━━━━━━━━━━━━━━━\u001b[0m\u001b[37m\u001b[0m \u001b[1m1s\u001b[0m 5ms/step - accuracy: 0.0469 - loss: 0.1304 - val_accuracy: 0.0750 - val_loss: 0.1136 - learning_rate: 0.0010\n",
            "Epoch 7/100\n",
            "\u001b[1m200/200\u001b[0m \u001b[32m━━━━━━━━━━━━━━━━━━━━\u001b[0m\u001b[37m\u001b[0m \u001b[1m1s\u001b[0m 5ms/step - accuracy: 0.0521 - loss: 0.1257 - val_accuracy: 0.0969 - val_loss: 0.1086 - learning_rate: 0.0010\n",
            "Epoch 8/100\n",
            "\u001b[1m200/200\u001b[0m \u001b[32m━━━━━━━━━━━━━━━━━━━━\u001b[0m\u001b[37m\u001b[0m \u001b[1m1s\u001b[0m 5ms/step - accuracy: 0.0555 - loss: 0.1215 - val_accuracy: 0.1056 - val_loss: 0.1035 - learning_rate: 0.0010\n",
            "Epoch 9/100\n",
            "\u001b[1m200/200\u001b[0m \u001b[32m━━━━━━━━━━━━━━━━━━━━\u001b[0m\u001b[37m\u001b[0m \u001b[1m1s\u001b[0m 6ms/step - accuracy: 0.0667 - loss: 0.1191 - val_accuracy: 0.0981 - val_loss: 0.0993 - learning_rate: 0.0010\n",
            "Epoch 10/100\n",
            "\u001b[1m200/200\u001b[0m \u001b[32m━━━━━━━━━━━━━━━━━━━━\u001b[0m\u001b[37m\u001b[0m \u001b[1m1s\u001b[0m 5ms/step - accuracy: 0.0655 - loss: 0.1154 - val_accuracy: 0.0938 - val_loss: 0.0951 - learning_rate: 0.0010\n",
            "Epoch 11/100\n",
            "\u001b[1m200/200\u001b[0m \u001b[32m━━━━━━━━━━━━━━━━━━━━\u001b[0m\u001b[37m\u001b[0m \u001b[1m1s\u001b[0m 5ms/step - accuracy: 0.0642 - loss: 0.1132 - val_accuracy: 0.1000 - val_loss: 0.0922 - learning_rate: 0.0010\n",
            "Epoch 12/100\n",
            "\u001b[1m200/200\u001b[0m \u001b[32m━━━━━━━━━━━━━━━━━━━━\u001b[0m\u001b[37m\u001b[0m \u001b[1m1s\u001b[0m 5ms/step - accuracy: 0.0722 - loss: 0.1103 - val_accuracy: 0.0913 - val_loss: 0.0893 - learning_rate: 0.0010\n",
            "Epoch 13/100\n",
            "\u001b[1m200/200\u001b[0m \u001b[32m━━━━━━━━━━━━━━━━━━━━\u001b[0m\u001b[37m\u001b[0m \u001b[1m1s\u001b[0m 6ms/step - accuracy: 0.0719 - loss: 0.1089 - val_accuracy: 0.0881 - val_loss: 0.0870 - learning_rate: 0.0010\n",
            "Epoch 14/100\n",
            "\u001b[1m200/200\u001b[0m \u001b[32m━━━━━━━━━━━━━━━━━━━━\u001b[0m\u001b[37m\u001b[0m \u001b[1m2s\u001b[0m 9ms/step - accuracy: 0.0748 - loss: 0.1072 - val_accuracy: 0.0988 - val_loss: 0.0849 - learning_rate: 0.0010\n",
            "Epoch 15/100\n",
            "\u001b[1m200/200\u001b[0m \u001b[32m━━━━━━━━━━━━━━━━━━━━\u001b[0m\u001b[37m\u001b[0m \u001b[1m2s\u001b[0m 8ms/step - accuracy: 0.0809 - loss: 0.1046 - val_accuracy: 0.0894 - val_loss: 0.0830 - learning_rate: 0.0010\n",
            "Epoch 16/100\n",
            "\u001b[1m200/200\u001b[0m \u001b[32m━━━━━━━━━━━━━━━━━━━━\u001b[0m\u001b[37m\u001b[0m \u001b[1m2s\u001b[0m 7ms/step - accuracy: 0.0897 - loss: 0.1037 - val_accuracy: 0.0838 - val_loss: 0.0813 - learning_rate: 0.0010\n",
            "Epoch 17/100\n",
            "\u001b[1m200/200\u001b[0m \u001b[32m━━━━━━━━━━━━━━━━━━━━\u001b[0m\u001b[37m\u001b[0m \u001b[1m2s\u001b[0m 8ms/step - accuracy: 0.0873 - loss: 0.1021 - val_accuracy: 0.0800 - val_loss: 0.0802 - learning_rate: 0.0010\n",
            "Epoch 18/100\n",
            "\u001b[1m200/200\u001b[0m \u001b[32m━━━━━━━━━━━━━━━━━━━━\u001b[0m\u001b[37m\u001b[0m \u001b[1m2s\u001b[0m 8ms/step - accuracy: 0.0911 - loss: 0.1011 - val_accuracy: 0.0838 - val_loss: 0.0791 - learning_rate: 0.0010\n",
            "Epoch 19/100\n",
            "\u001b[1m200/200\u001b[0m \u001b[32m━━━━━━━━━━━━━━━━━━━━\u001b[0m\u001b[37m\u001b[0m \u001b[1m2s\u001b[0m 10ms/step - accuracy: 0.0826 - loss: 0.1001 - val_accuracy: 0.0981 - val_loss: 0.0781 - learning_rate: 0.0010\n",
            "Epoch 20/100\n",
            "\u001b[1m200/200\u001b[0m \u001b[32m━━━━━━━━━━━━━━━━━━━━\u001b[0m\u001b[37m\u001b[0m \u001b[1m3s\u001b[0m 14ms/step - accuracy: 0.0897 - loss: 0.0988 - val_accuracy: 0.0819 - val_loss: 0.0770 - learning_rate: 0.0010\n",
            "Epoch 21/100\n",
            "\u001b[1m200/200\u001b[0m \u001b[32m━━━━━━━━━━━━━━━━━━━━\u001b[0m\u001b[37m\u001b[0m \u001b[1m3s\u001b[0m 14ms/step - accuracy: 0.0930 - loss: 0.0986 - val_accuracy: 0.0925 - val_loss: 0.0763 - learning_rate: 0.0010\n",
            "Epoch 22/100\n",
            "\u001b[1m200/200\u001b[0m \u001b[32m━━━━━━━━━━━━━━━━━━━━\u001b[0m\u001b[37m\u001b[0m \u001b[1m3s\u001b[0m 14ms/step - accuracy: 0.0895 - loss: 0.0979 - val_accuracy: 0.1031 - val_loss: 0.0754 - learning_rate: 0.0010\n",
            "Epoch 23/100\n",
            "\u001b[1m200/200\u001b[0m \u001b[32m━━━━━━━━━━━━━━━━━━━━\u001b[0m\u001b[37m\u001b[0m \u001b[1m3s\u001b[0m 13ms/step - accuracy: 0.0866 - loss: 0.0971 - val_accuracy: 0.1025 - val_loss: 0.0748 - learning_rate: 0.0010\n",
            "Epoch 24/100\n",
            "\u001b[1m200/200\u001b[0m \u001b[32m━━━━━━━━━━━━━━━━━━━━\u001b[0m\u001b[37m\u001b[0m \u001b[1m3s\u001b[0m 13ms/step - accuracy: 0.0931 - loss: 0.0956 - val_accuracy: 0.0862 - val_loss: 0.0740 - learning_rate: 0.0010\n",
            "Epoch 25/100\n",
            "\u001b[1m200/200\u001b[0m \u001b[32m━━━━━━━━━━━━━━━━━━━━\u001b[0m\u001b[37m\u001b[0m \u001b[1m3s\u001b[0m 13ms/step - accuracy: 0.0870 - loss: 0.0959 - val_accuracy: 0.0869 - val_loss: 0.0736 - learning_rate: 0.0010\n",
            "Epoch 26/100\n",
            "\u001b[1m200/200\u001b[0m \u001b[32m━━━━━━━━━━━━━━━━━━━━\u001b[0m\u001b[37m\u001b[0m \u001b[1m3s\u001b[0m 15ms/step - accuracy: 0.0973 - loss: 0.0941 - val_accuracy: 0.1019 - val_loss: 0.0729 - learning_rate: 0.0010\n",
            "Epoch 27/100\n",
            "\u001b[1m200/200\u001b[0m \u001b[32m━━━━━━━━━━━━━━━━━━━━\u001b[0m\u001b[37m\u001b[0m \u001b[1m3s\u001b[0m 14ms/step - accuracy: 0.0896 - loss: 0.0945 - val_accuracy: 0.0994 - val_loss: 0.0725 - learning_rate: 0.0010\n",
            "Epoch 28/100\n",
            "\u001b[1m200/200\u001b[0m \u001b[32m━━━━━━━━━━━━━━━━━━━━\u001b[0m\u001b[37m\u001b[0m \u001b[1m2s\u001b[0m 12ms/step - accuracy: 0.0905 - loss: 0.0938 - val_accuracy: 0.1025 - val_loss: 0.0719 - learning_rate: 0.0010\n",
            "Epoch 29/100\n",
            "\u001b[1m200/200\u001b[0m \u001b[32m━━━━━━━━━━━━━━━━━━━━\u001b[0m\u001b[37m\u001b[0m \u001b[1m3s\u001b[0m 13ms/step - accuracy: 0.0991 - loss: 0.0927 - val_accuracy: 0.0838 - val_loss: 0.0716 - learning_rate: 0.0010\n",
            "Epoch 30/100\n",
            "\u001b[1m200/200\u001b[0m \u001b[32m━━━━━━━━━━━━━━━━━━━━\u001b[0m\u001b[37m\u001b[0m \u001b[1m3s\u001b[0m 14ms/step - accuracy: 0.0851 - loss: 0.0920 - val_accuracy: 0.0962 - val_loss: 0.0710 - learning_rate: 0.0010\n",
            "Epoch 31/100\n",
            "\u001b[1m200/200\u001b[0m \u001b[32m━━━━━━━━━━━━━━━━━━━━\u001b[0m\u001b[37m\u001b[0m \u001b[1m3s\u001b[0m 16ms/step - accuracy: 0.0977 - loss: 0.0918 - val_accuracy: 0.1050 - val_loss: 0.0707 - learning_rate: 0.0010\n",
            "Epoch 32/100\n",
            "\u001b[1m200/200\u001b[0m \u001b[32m━━━━━━━━━━━━━━━━━━━━\u001b[0m\u001b[37m\u001b[0m \u001b[1m3s\u001b[0m 15ms/step - accuracy: 0.0896 - loss: 0.0915 - val_accuracy: 0.0838 - val_loss: 0.0703 - learning_rate: 0.0010\n",
            "Epoch 33/100\n",
            "\u001b[1m200/200\u001b[0m \u001b[32m━━━━━━━━━━━━━━━━━━━━\u001b[0m\u001b[37m\u001b[0m \u001b[1m3s\u001b[0m 13ms/step - accuracy: 0.0934 - loss: 0.0917 - val_accuracy: 0.1000 - val_loss: 0.0699 - learning_rate: 0.0010\n",
            "Epoch 34/100\n",
            "\u001b[1m200/200\u001b[0m \u001b[32m━━━━━━━━━━━━━━━━━━━━\u001b[0m\u001b[37m\u001b[0m \u001b[1m3s\u001b[0m 13ms/step - accuracy: 0.1017 - loss: 0.0910 - val_accuracy: 0.0938 - val_loss: 0.0698 - learning_rate: 0.0010\n",
            "Epoch 35/100\n",
            "\u001b[1m200/200\u001b[0m \u001b[32m━━━━━━━━━━━━━━━━━━━━\u001b[0m\u001b[37m\u001b[0m \u001b[1m3s\u001b[0m 13ms/step - accuracy: 0.0948 - loss: 0.0904 - val_accuracy: 0.0850 - val_loss: 0.0691 - learning_rate: 0.0010\n",
            "Epoch 36/100\n",
            "\u001b[1m200/200\u001b[0m \u001b[32m━━━━━━━━━━━━━━━━━━━━\u001b[0m\u001b[37m\u001b[0m \u001b[1m2s\u001b[0m 11ms/step - accuracy: 0.0979 - loss: 0.0900 - val_accuracy: 0.0881 - val_loss: 0.0688 - learning_rate: 0.0010\n",
            "Epoch 37/100\n",
            "\u001b[1m200/200\u001b[0m \u001b[32m━━━━━━━━━━━━━━━━━━━━\u001b[0m\u001b[37m\u001b[0m \u001b[1m3s\u001b[0m 13ms/step - accuracy: 0.0893 - loss: 0.0895 - val_accuracy: 0.0887 - val_loss: 0.0687 - learning_rate: 0.0010\n",
            "Epoch 38/100\n",
            "\u001b[1m200/200\u001b[0m \u001b[32m━━━━━━━━━━━━━━━━━━━━\u001b[0m\u001b[37m\u001b[0m \u001b[1m3s\u001b[0m 13ms/step - accuracy: 0.1081 - loss: 0.0895 - val_accuracy: 0.0981 - val_loss: 0.0687 - learning_rate: 0.0010\n",
            "Epoch 39/100\n",
            "\u001b[1m200/200\u001b[0m \u001b[32m━━━━━━━━━━━━━━━━━━━━\u001b[0m\u001b[37m\u001b[0m \u001b[1m2s\u001b[0m 9ms/step - accuracy: 0.1002 - loss: 0.0886 - val_accuracy: 0.0962 - val_loss: 0.0680 - learning_rate: 0.0010\n",
            "Epoch 40/100\n",
            "\u001b[1m200/200\u001b[0m \u001b[32m━━━━━━━━━━━━━━━━━━━━\u001b[0m\u001b[37m\u001b[0m \u001b[1m2s\u001b[0m 9ms/step - accuracy: 0.0965 - loss: 0.0887 - val_accuracy: 0.1006 - val_loss: 0.0678 - learning_rate: 0.0010\n",
            "Epoch 41/100\n",
            "\u001b[1m200/200\u001b[0m \u001b[32m━━━━━━━━━━━━━━━━━━━━\u001b[0m\u001b[37m\u001b[0m \u001b[1m3s\u001b[0m 14ms/step - accuracy: 0.1006 - loss: 0.0882 - val_accuracy: 0.0900 - val_loss: 0.0674 - learning_rate: 0.0010\n",
            "Epoch 42/100\n",
            "\u001b[1m200/200\u001b[0m \u001b[32m━━━━━━━━━━━━━━━━━━━━\u001b[0m\u001b[37m\u001b[0m \u001b[1m3s\u001b[0m 16ms/step - accuracy: 0.1010 - loss: 0.0882 - val_accuracy: 0.0862 - val_loss: 0.0672 - learning_rate: 0.0010\n",
            "Epoch 43/100\n",
            "\u001b[1m200/200\u001b[0m \u001b[32m━━━━━━━━━━━━━━━━━━━━\u001b[0m\u001b[37m\u001b[0m \u001b[1m3s\u001b[0m 14ms/step - accuracy: 0.0871 - loss: 0.0873 - val_accuracy: 0.0900 - val_loss: 0.0669 - learning_rate: 0.0010\n",
            "Epoch 44/100\n",
            "\u001b[1m200/200\u001b[0m \u001b[32m━━━━━━━━━━━━━━━━━━━━\u001b[0m\u001b[37m\u001b[0m \u001b[1m3s\u001b[0m 12ms/step - accuracy: 0.0975 - loss: 0.0881 - val_accuracy: 0.0781 - val_loss: 0.0669 - learning_rate: 0.0010\n",
            "Epoch 45/100\n",
            "\u001b[1m200/200\u001b[0m \u001b[32m━━━━━━━━━━━━━━━━━━━━\u001b[0m\u001b[37m\u001b[0m \u001b[1m3s\u001b[0m 13ms/step - accuracy: 0.1043 - loss: 0.0876 - val_accuracy: 0.0938 - val_loss: 0.0671 - learning_rate: 0.0010\n",
            "Epoch 46/100\n",
            "\u001b[1m200/200\u001b[0m \u001b[32m━━━━━━━━━━━━━━━━━━━━\u001b[0m\u001b[37m\u001b[0m \u001b[1m3s\u001b[0m 12ms/step - accuracy: 0.0980 - loss: 0.0872 - val_accuracy: 0.0881 - val_loss: 0.0663 - learning_rate: 0.0010\n",
            "Epoch 47/100\n",
            "\u001b[1m200/200\u001b[0m \u001b[32m━━━━━━━━━━━━━━━━━━━━\u001b[0m\u001b[37m\u001b[0m \u001b[1m3s\u001b[0m 13ms/step - accuracy: 0.0860 - loss: 0.0873 - val_accuracy: 0.1031 - val_loss: 0.0660 - learning_rate: 0.0010\n",
            "Epoch 48/100\n",
            "\u001b[1m200/200\u001b[0m \u001b[32m━━━━━━━━━━━━━━━━━━━━\u001b[0m\u001b[37m\u001b[0m \u001b[1m3s\u001b[0m 14ms/step - accuracy: 0.1016 - loss: 0.0872 - val_accuracy: 0.0800 - val_loss: 0.0660 - learning_rate: 0.0010\n",
            "Epoch 49/100\n",
            "\u001b[1m200/200\u001b[0m \u001b[32m━━━━━━━━━━━━━━━━━━━━\u001b[0m\u001b[37m\u001b[0m \u001b[1m3s\u001b[0m 14ms/step - accuracy: 0.1016 - loss: 0.0867 - val_accuracy: 0.0913 - val_loss: 0.0659 - learning_rate: 0.0010\n",
            "Epoch 50/100\n",
            "\u001b[1m200/200\u001b[0m \u001b[32m━━━━━━━━━━━━━━━━━━━━\u001b[0m\u001b[37m\u001b[0m \u001b[1m3s\u001b[0m 14ms/step - accuracy: 0.0948 - loss: 0.0871 - val_accuracy: 0.0931 - val_loss: 0.0658 - learning_rate: 0.0010\n",
            "Epoch 51/100\n",
            "\u001b[1m200/200\u001b[0m \u001b[32m━━━━━━━━━━━━━━━━━━━━\u001b[0m\u001b[37m\u001b[0m \u001b[1m3s\u001b[0m 14ms/step - accuracy: 0.0984 - loss: 0.0860 - val_accuracy: 0.0938 - val_loss: 0.0653 - learning_rate: 0.0010\n",
            "Epoch 52/100\n",
            "\u001b[1m200/200\u001b[0m \u001b[32m━━━━━━━━━━━━━━━━━━━━\u001b[0m\u001b[37m\u001b[0m \u001b[1m5s\u001b[0m 12ms/step - accuracy: 0.0937 - loss: 0.0861 - val_accuracy: 0.0831 - val_loss: 0.0654 - learning_rate: 0.0010\n",
            "Epoch 53/100\n",
            "\u001b[1m200/200\u001b[0m \u001b[32m━━━━━━━━━━━━━━━━━━━━\u001b[0m\u001b[37m\u001b[0m \u001b[1m2s\u001b[0m 11ms/step - accuracy: 0.1029 - loss: 0.0857 - val_accuracy: 0.0887 - val_loss: 0.0652 - learning_rate: 0.0010\n",
            "Epoch 54/100\n",
            "\u001b[1m200/200\u001b[0m \u001b[32m━━━━━━━━━━━━━━━━━━━━\u001b[0m\u001b[37m\u001b[0m \u001b[1m2s\u001b[0m 11ms/step - accuracy: 0.1049 - loss: 0.0853 - val_accuracy: 0.0800 - val_loss: 0.0650 - learning_rate: 0.0010\n",
            "Epoch 55/100\n",
            "\u001b[1m200/200\u001b[0m \u001b[32m━━━━━━━━━━━━━━━━━━━━\u001b[0m\u001b[37m\u001b[0m \u001b[1m2s\u001b[0m 12ms/step - accuracy: 0.0871 - loss: 0.0859 - val_accuracy: 0.0769 - val_loss: 0.0649 - learning_rate: 0.0010\n",
            "Epoch 56/100\n",
            "\u001b[1m200/200\u001b[0m \u001b[32m━━━━━━━━━━━━━━━━━━━━\u001b[0m\u001b[37m\u001b[0m \u001b[1m2s\u001b[0m 10ms/step - accuracy: 0.1032 - loss: 0.0852 - val_accuracy: 0.0725 - val_loss: 0.0648 - learning_rate: 0.0010\n",
            "Epoch 57/100\n",
            "\u001b[1m200/200\u001b[0m \u001b[32m━━━━━━━━━━━━━━━━━━━━\u001b[0m\u001b[37m\u001b[0m \u001b[1m2s\u001b[0m 10ms/step - accuracy: 0.1002 - loss: 0.0849 - val_accuracy: 0.0900 - val_loss: 0.0644 - learning_rate: 0.0010\n",
            "Epoch 58/100\n",
            "\u001b[1m200/200\u001b[0m \u001b[32m━━━━━━━━━━━━━━━━━━━━\u001b[0m\u001b[37m\u001b[0m \u001b[1m2s\u001b[0m 10ms/step - accuracy: 0.0984 - loss: 0.0850 - val_accuracy: 0.0931 - val_loss: 0.0644 - learning_rate: 0.0010\n",
            "Epoch 59/100\n",
            "\u001b[1m200/200\u001b[0m \u001b[32m━━━━━━━━━━━━━━━━━━━━\u001b[0m\u001b[37m\u001b[0m \u001b[1m2s\u001b[0m 10ms/step - accuracy: 0.0987 - loss: 0.0851 - val_accuracy: 0.0825 - val_loss: 0.0642 - learning_rate: 0.0010\n",
            "Epoch 60/100\n",
            "\u001b[1m200/200\u001b[0m \u001b[32m━━━━━━━━━━━━━━━━━━━━\u001b[0m\u001b[37m\u001b[0m \u001b[1m2s\u001b[0m 10ms/step - accuracy: 0.1035 - loss: 0.0847 - val_accuracy: 0.0775 - val_loss: 0.0643 - learning_rate: 0.0010\n",
            "Epoch 61/100\n",
            "\u001b[1m200/200\u001b[0m \u001b[32m━━━━━━━━━━━━━━━━━━━━\u001b[0m\u001b[37m\u001b[0m \u001b[1m2s\u001b[0m 10ms/step - accuracy: 0.0880 - loss: 0.0850 - val_accuracy: 0.0794 - val_loss: 0.0642 - learning_rate: 0.0010\n",
            "Epoch 62/100\n",
            "\u001b[1m200/200\u001b[0m \u001b[32m━━━━━━━━━━━━━━━━━━━━\u001b[0m\u001b[37m\u001b[0m \u001b[1m2s\u001b[0m 10ms/step - accuracy: 0.1095 - loss: 0.0845 - val_accuracy: 0.0994 - val_loss: 0.0640 - learning_rate: 0.0010\n",
            "Epoch 63/100\n",
            "\u001b[1m200/200\u001b[0m \u001b[32m━━━━━━━━━━━━━━━━━━━━\u001b[0m\u001b[37m\u001b[0m \u001b[1m2s\u001b[0m 11ms/step - accuracy: 0.1038 - loss: 0.0844 - val_accuracy: 0.0769 - val_loss: 0.0636 - learning_rate: 0.0010\n",
            "Epoch 64/100\n",
            "\u001b[1m200/200\u001b[0m \u001b[32m━━━━━━━━━━━━━━━━━━━━\u001b[0m\u001b[37m\u001b[0m \u001b[1m2s\u001b[0m 9ms/step - accuracy: 0.0905 - loss: 0.0842 - val_accuracy: 0.0806 - val_loss: 0.0636 - learning_rate: 0.0010\n",
            "Epoch 65/100\n",
            "\u001b[1m200/200\u001b[0m \u001b[32m━━━━━━━━━━━━━━━━━━━━\u001b[0m\u001b[37m\u001b[0m \u001b[1m2s\u001b[0m 10ms/step - accuracy: 0.0957 - loss: 0.0844 - val_accuracy: 0.0850 - val_loss: 0.0634 - learning_rate: 0.0010\n",
            "Epoch 66/100\n",
            "\u001b[1m200/200\u001b[0m \u001b[32m━━━━━━━━━━━━━━━━━━━━\u001b[0m\u001b[37m\u001b[0m \u001b[1m2s\u001b[0m 11ms/step - accuracy: 0.0996 - loss: 0.0848 - val_accuracy: 0.0862 - val_loss: 0.0635 - learning_rate: 0.0010\n",
            "Epoch 67/100\n",
            "\u001b[1m200/200\u001b[0m \u001b[32m━━━━━━━━━━━━━━━━━━━━\u001b[0m\u001b[37m\u001b[0m \u001b[1m2s\u001b[0m 11ms/step - accuracy: 0.0905 - loss: 0.0840 - val_accuracy: 0.0838 - val_loss: 0.0634 - learning_rate: 0.0010\n",
            "Epoch 68/100\n",
            "\u001b[1m200/200\u001b[0m \u001b[32m━━━━━━━━━━━━━━━━━━━━\u001b[0m\u001b[37m\u001b[0m \u001b[1m2s\u001b[0m 11ms/step - accuracy: 0.1013 - loss: 0.0830 - val_accuracy: 0.1044 - val_loss: 0.0633 - learning_rate: 0.0010\n",
            "Epoch 69/100\n",
            "\u001b[1m200/200\u001b[0m \u001b[32m━━━━━━━━━━━━━━━━━━━━\u001b[0m\u001b[37m\u001b[0m \u001b[1m2s\u001b[0m 10ms/step - accuracy: 0.0998 - loss: 0.0842 - val_accuracy: 0.0831 - val_loss: 0.0632 - learning_rate: 0.0010\n",
            "Epoch 70/100\n",
            "\u001b[1m200/200\u001b[0m \u001b[32m━━━━━━━━━━━━━━━━━━━━\u001b[0m\u001b[37m\u001b[0m \u001b[1m2s\u001b[0m 11ms/step - accuracy: 0.0991 - loss: 0.0840 - val_accuracy: 0.0919 - val_loss: 0.0631 - learning_rate: 0.0010\n",
            "Epoch 71/100\n",
            "\u001b[1m200/200\u001b[0m \u001b[32m━━━━━━━━━━━━━━━━━━━━\u001b[0m\u001b[37m\u001b[0m \u001b[1m2s\u001b[0m 11ms/step - accuracy: 0.0974 - loss: 0.0838 - val_accuracy: 0.0900 - val_loss: 0.0628 - learning_rate: 0.0010\n",
            "Epoch 72/100\n",
            "\u001b[1m200/200\u001b[0m \u001b[32m━━━━━━━━━━━━━━━━━━━━\u001b[0m\u001b[37m\u001b[0m \u001b[1m2s\u001b[0m 11ms/step - accuracy: 0.1063 - loss: 0.0831 - val_accuracy: 0.0938 - val_loss: 0.0629 - learning_rate: 0.0010\n",
            "Epoch 73/100\n",
            "\u001b[1m200/200\u001b[0m \u001b[32m━━━━━━━━━━━━━━━━━━━━\u001b[0m\u001b[37m\u001b[0m \u001b[1m2s\u001b[0m 12ms/step - accuracy: 0.0934 - loss: 0.0830 - val_accuracy: 0.0769 - val_loss: 0.0627 - learning_rate: 0.0010\n",
            "Epoch 74/100\n",
            "\u001b[1m200/200\u001b[0m \u001b[32m━━━━━━━━━━━━━━━━━━━━\u001b[0m\u001b[37m\u001b[0m \u001b[1m2s\u001b[0m 8ms/step - accuracy: 0.0995 - loss: 0.0835 - val_accuracy: 0.0781 - val_loss: 0.0626 - learning_rate: 0.0010\n",
            "Epoch 75/100\n",
            "\u001b[1m200/200\u001b[0m \u001b[32m━━━━━━━━━━━━━━━━━━━━\u001b[0m\u001b[37m\u001b[0m \u001b[1m2s\u001b[0m 8ms/step - accuracy: 0.1022 - loss: 0.0831 - val_accuracy: 0.0925 - val_loss: 0.0627 - learning_rate: 0.0010\n",
            "Epoch 76/100\n",
            "\u001b[1m200/200\u001b[0m \u001b[32m━━━━━━━━━━━━━━━━━━━━\u001b[0m\u001b[37m\u001b[0m \u001b[1m2s\u001b[0m 7ms/step - accuracy: 0.0860 - loss: 0.0837 - val_accuracy: 0.0894 - val_loss: 0.0627 - learning_rate: 0.0010\n",
            "Epoch 77/100\n",
            "\u001b[1m200/200\u001b[0m \u001b[32m━━━━━━━━━━━━━━━━━━━━\u001b[0m\u001b[37m\u001b[0m \u001b[1m2s\u001b[0m 7ms/step - accuracy: 0.0992 - loss: 0.0831 - val_accuracy: 0.0919 - val_loss: 0.0625 - learning_rate: 0.0010\n",
            "Epoch 78/100\n",
            "\u001b[1m200/200\u001b[0m \u001b[32m━━━━━━━━━━━━━━━━━━━━\u001b[0m\u001b[37m\u001b[0m \u001b[1m2s\u001b[0m 7ms/step - accuracy: 0.0992 - loss: 0.0828 - val_accuracy: 0.0831 - val_loss: 0.0624 - learning_rate: 0.0010\n",
            "Epoch 79/100\n",
            "\u001b[1m200/200\u001b[0m \u001b[32m━━━━━━━━━━━━━━━━━━━━\u001b[0m\u001b[37m\u001b[0m \u001b[1m2s\u001b[0m 8ms/step - accuracy: 0.0979 - loss: 0.0823 - val_accuracy: 0.0900 - val_loss: 0.0625 - learning_rate: 0.0010\n",
            "Epoch 80/100\n",
            "\u001b[1m200/200\u001b[0m \u001b[32m━━━━━━━━━━━━━━━━━━━━\u001b[0m\u001b[37m\u001b[0m \u001b[1m1s\u001b[0m 7ms/step - accuracy: 0.0965 - loss: 0.0825 - val_accuracy: 0.0862 - val_loss: 0.0621 - learning_rate: 0.0010\n",
            "Epoch 81/100\n",
            "\u001b[1m200/200\u001b[0m \u001b[32m━━━━━━━━━━━━━━━━━━━━\u001b[0m\u001b[37m\u001b[0m \u001b[1m2s\u001b[0m 8ms/step - accuracy: 0.1145 - loss: 0.0819 - val_accuracy: 0.0731 - val_loss: 0.0624 - learning_rate: 0.0010\n",
            "Epoch 82/100\n",
            "\u001b[1m200/200\u001b[0m \u001b[32m━━━━━━━━━━━━━━━━━━━━\u001b[0m\u001b[37m\u001b[0m \u001b[1m2s\u001b[0m 9ms/step - accuracy: 0.1038 - loss: 0.0825 - val_accuracy: 0.0900 - val_loss: 0.0620 - learning_rate: 0.0010\n",
            "Epoch 83/100\n",
            "\u001b[1m200/200\u001b[0m \u001b[32m━━━━━━━━━━━━━━━━━━━━\u001b[0m\u001b[37m\u001b[0m \u001b[1m2s\u001b[0m 9ms/step - accuracy: 0.0908 - loss: 0.0822 - val_accuracy: 0.1000 - val_loss: 0.0621 - learning_rate: 0.0010\n",
            "Epoch 84/100\n",
            "\u001b[1m200/200\u001b[0m \u001b[32m━━━━━━━━━━━━━━━━━━━━\u001b[0m\u001b[37m\u001b[0m \u001b[1m2s\u001b[0m 10ms/step - accuracy: 0.1130 - loss: 0.0817 - val_accuracy: 0.0894 - val_loss: 0.0620 - learning_rate: 0.0010\n",
            "Epoch 85/100\n",
            "\u001b[1m200/200\u001b[0m \u001b[32m━━━━━━━━━━━━━━━━━━━━\u001b[0m\u001b[37m\u001b[0m \u001b[1m2s\u001b[0m 10ms/step - accuracy: 0.1070 - loss: 0.0817 - val_accuracy: 0.0838 - val_loss: 0.0619 - learning_rate: 0.0010\n",
            "Epoch 86/100\n",
            "\u001b[1m200/200\u001b[0m \u001b[32m━━━━━━━━━━━━━━━━━━━━\u001b[0m\u001b[37m\u001b[0m \u001b[1m2s\u001b[0m 9ms/step - accuracy: 0.0884 - loss: 0.0824 - val_accuracy: 0.0763 - val_loss: 0.0618 - learning_rate: 0.0010\n",
            "Epoch 87/100\n",
            "\u001b[1m200/200\u001b[0m \u001b[32m━━━━━━━━━━━━━━━━━━━━\u001b[0m\u001b[37m\u001b[0m \u001b[1m2s\u001b[0m 9ms/step - accuracy: 0.0979 - loss: 0.0821 - val_accuracy: 0.0919 - val_loss: 0.0618 - learning_rate: 0.0010\n",
            "Epoch 88/100\n",
            "\u001b[1m200/200\u001b[0m \u001b[32m━━━━━━━━━━━━━━━━━━━━\u001b[0m\u001b[37m\u001b[0m \u001b[1m2s\u001b[0m 10ms/step - accuracy: 0.1067 - loss: 0.0817 - val_accuracy: 0.0869 - val_loss: 0.0619 - learning_rate: 0.0010\n",
            "Epoch 89/100\n",
            "\u001b[1m200/200\u001b[0m \u001b[32m━━━━━━━━━━━━━━━━━━━━\u001b[0m\u001b[37m\u001b[0m \u001b[1m2s\u001b[0m 10ms/step - accuracy: 0.0938 - loss: 0.0815 - val_accuracy: 0.0875 - val_loss: 0.0617 - learning_rate: 0.0010\n",
            "Epoch 90/100\n",
            "\u001b[1m200/200\u001b[0m \u001b[32m━━━━━━━━━━━━━━━━━━━━\u001b[0m\u001b[37m\u001b[0m \u001b[1m2s\u001b[0m 10ms/step - accuracy: 0.1030 - loss: 0.0816 - val_accuracy: 0.0812 - val_loss: 0.0617 - learning_rate: 0.0010\n",
            "Epoch 91/100\n",
            "\u001b[1m200/200\u001b[0m \u001b[32m━━━━━━━━━━━━━━━━━━━━\u001b[0m\u001b[37m\u001b[0m \u001b[1m2s\u001b[0m 10ms/step - accuracy: 0.1012 - loss: 0.0814 - val_accuracy: 0.0881 - val_loss: 0.0616 - learning_rate: 0.0010\n",
            "Epoch 92/100\n",
            "\u001b[1m200/200\u001b[0m \u001b[32m━━━━━━━━━━━━━━━━━━━━\u001b[0m\u001b[37m\u001b[0m \u001b[1m2s\u001b[0m 10ms/step - accuracy: 0.1062 - loss: 0.0812 - val_accuracy: 0.0881 - val_loss: 0.0614 - learning_rate: 0.0010\n",
            "Epoch 93/100\n",
            "\u001b[1m200/200\u001b[0m \u001b[32m━━━━━━━━━━━━━━━━━━━━\u001b[0m\u001b[37m\u001b[0m \u001b[1m2s\u001b[0m 9ms/step - accuracy: 0.1067 - loss: 0.0812 - val_accuracy: 0.1000 - val_loss: 0.0614 - learning_rate: 0.0010\n",
            "Epoch 94/100\n",
            "\u001b[1m200/200\u001b[0m \u001b[32m━━━━━━━━━━━━━━━━━━━━\u001b[0m\u001b[37m\u001b[0m \u001b[1m2s\u001b[0m 11ms/step - accuracy: 0.0989 - loss: 0.0815 - val_accuracy: 0.0956 - val_loss: 0.0611 - learning_rate: 0.0010\n",
            "Epoch 95/100\n",
            "\u001b[1m200/200\u001b[0m \u001b[32m━━━━━━━━━━━━━━━━━━━━\u001b[0m\u001b[37m\u001b[0m \u001b[1m2s\u001b[0m 10ms/step - accuracy: 0.1060 - loss: 0.0813 - val_accuracy: 0.0856 - val_loss: 0.0614 - learning_rate: 0.0010\n",
            "Epoch 96/100\n",
            "\u001b[1m200/200\u001b[0m \u001b[32m━━━━━━━━━━━━━━━━━━━━\u001b[0m\u001b[37m\u001b[0m \u001b[1m2s\u001b[0m 10ms/step - accuracy: 0.0935 - loss: 0.0810 - val_accuracy: 0.0975 - val_loss: 0.0614 - learning_rate: 0.0010\n",
            "Epoch 97/100\n",
            "\u001b[1m200/200\u001b[0m \u001b[32m━━━━━━━━━━━━━━━━━━━━\u001b[0m\u001b[37m\u001b[0m \u001b[1m2s\u001b[0m 10ms/step - accuracy: 0.1073 - loss: 0.0814 - val_accuracy: 0.0981 - val_loss: 0.0612 - learning_rate: 0.0010\n",
            "Epoch 98/100\n",
            "\u001b[1m200/200\u001b[0m \u001b[32m━━━━━━━━━━━━━━━━━━━━\u001b[0m\u001b[37m\u001b[0m \u001b[1m2s\u001b[0m 10ms/step - accuracy: 0.1051 - loss: 0.0813 - val_accuracy: 0.0956 - val_loss: 0.0611 - learning_rate: 0.0010\n",
            "Epoch 99/100\n",
            "\u001b[1m200/200\u001b[0m \u001b[32m━━━━━━━━━━━━━━━━━━━━\u001b[0m\u001b[37m\u001b[0m \u001b[1m2s\u001b[0m 10ms/step - accuracy: 0.0965 - loss: 0.0810 - val_accuracy: 0.0881 - val_loss: 0.0612 - learning_rate: 0.0010\n",
            "Epoch 100/100\n",
            "\u001b[1m200/200\u001b[0m \u001b[32m━━━━━━━━━━━━━━━━━━━━\u001b[0m\u001b[37m\u001b[0m \u001b[1m2s\u001b[0m 10ms/step - accuracy: 0.0989 - loss: 0.0805 - val_accuracy: 0.0844 - val_loss: 0.0612 - learning_rate: 2.0000e-04\n",
            "\n",
            "Model training completed.\n"
          ]
        }
      ],
      "source": [
        "early_stopping = EarlyStopping(monitor='val_loss', patience=10, restore_best_weights=True)\n",
        "reduce_lr = ReduceLROnPlateau(monitor='val_loss', factor=0.2, patience=5, min_lr=0.00001)\n",
        "\n",
        "history = model.fit(X_train, y_train,\n",
        "                    validation_data=(X_val, y_val),\n",
        "                    epochs=100,\n",
        "                    batch_size=32,\n",
        "                    callbacks=[early_stopping, reduce_lr],\n",
        "                    verbose=1)\n",
        "\n",
        "print(\"\\nModel training completed.\")"
      ]
    },
    {
      "cell_type": "markdown",
      "metadata": {},
      "source": [
        "Evaluate model"
      ]
    },
    {
      "cell_type": "code",
      "execution_count": 8,
      "metadata": {
        "id": "A8FMPdfI2b5Y"
      },
      "outputs": [
        {
          "name": "stdout",
          "output_type": "stream",
          "text": [
            "\u001b[1m63/63\u001b[0m \u001b[32m━━━━━━━━━━━━━━━━━━━━\u001b[0m\u001b[37m\u001b[0m \u001b[1m1s\u001b[0m 9ms/step\n",
            "\n",
            "Classification Report:\n",
            "                                              precision    recall  f1-score   support\n",
            "\n",
            "                              Laxapana Falls       1.00      0.00      0.00        20\n",
            "                                    Ahangama       0.25      0.06      0.10        33\n",
            "                                   Ahungalla       0.20      0.04      0.06        27\n",
            "                                 Ambalangoda       1.00      0.00      0.00        48\n",
            "                   Ambalangoda Mask Workshop       0.67      0.21      0.32        38\n",
            "                            Ambuluwawa Tower       0.47      0.22      0.30        36\n",
            "                       Anawilundawa Wetlands       0.17      0.04      0.06        28\n",
            "                                 Anuradapura       0.66      0.37      0.47        52\n",
            "                                Anuradhapura       0.62      0.08      0.15       154\n",
            "                  Arankelle Forest Monastery       1.00      0.09      0.16        34\n",
            "                            Arugam Bay Beach       1.00      0.00      0.00        53\n",
            "                               Baker's Falls       1.00      0.00      0.00        29\n",
            "                          Bambarakanda Falls       1.00      0.00      0.00        27\n",
            "                            Bambarakiri Ella       1.00      0.00      0.00        23\n",
            "                  Batadombalena Craft Centre       0.81      0.27      0.41        48\n",
            "           Batatotalena (Batadombalena) Cave       0.48      0.51      0.49        43\n",
            "                                  Belihuloya       0.25      0.04      0.06        28\n",
            "                              Belilena Caves       0.54      0.50      0.52        42\n",
            "                                     Bentota       0.69      0.25      0.36       102\n",
            "                               Bentota Beach       1.00      0.00      0.00        25\n",
            "                               Bentota River       0.59      0.29      0.39       150\n",
            "                                Bolgoda Lake       0.00      0.00      0.00        27\n",
            "                      Bomburu Ella Waterfall       1.00      0.00      0.00        28\n",
            "                                Bopath Falls       1.00      0.00      0.00        28\n",
            "                       Bundala National Park       0.33      0.11      0.17        27\n",
            "                                     Colombo       1.00      0.03      0.06        91\n",
            "                           Colombo City Tour       0.71      0.52      0.60        58\n",
            "                     Colombo National Museum       0.33      0.07      0.12        28\n",
            "                           Colombo Port City       0.73      0.12      0.21       152\n",
            "                                    Dambulla       0.72      0.14      0.24        91\n",
            "Dambulla Royal Cave Temple and Golden Temple       0.43      0.06      0.10       156\n",
            "                                 Devon Falls       1.00      0.00      0.00        24\n",
            "                              Diyaluma Falls       1.00      0.00      0.00        29\n",
            "        Dry Zone Botanic Gardens, Hambantota       0.62      0.42      0.50        38\n",
            "                          Dunhinda Waterfall       1.00      0.00      0.00        20\n",
            "                                Dutch Museum       0.50      0.14      0.22        28\n",
            "                       Elephant Transit Home       0.25      0.02      0.04        51\n",
            "                                        Ella       0.78      0.14      0.23       214\n",
            "                                    Ella Gap       1.00      0.08      0.14        53\n",
            "                                   Ella Rock       0.50      0.10      0.16        83\n",
            "                                 Excel World       0.43      0.07      0.12        43\n",
            "                                 Folk Museum       0.29      0.08      0.12        26\n",
            "                                       Galle       0.64      0.22      0.33       146\n",
            "                             Galle City Tour       0.49      0.38      0.43        50\n",
            "                            Galle Dutch Fort       0.66      0.19      0.30       140\n",
            "                                  Galle Fort       0.36      0.05      0.09        82\n",
            "                            Galle Lighthouse       0.62      0.21      0.31        38\n",
            "                          Gangaramaya Temple       0.17      0.07      0.10        29\n",
            "                    Hakgala Botanical Garden       0.47      0.46      0.47        39\n",
            "                                    Haputale       0.69      0.09      0.17        96\n",
            "                                      Hatton       1.00      0.03      0.06       106\n",
            "                                   Hikkaduwa       0.45      0.04      0.07       135\n",
            "                             Hikkaduwa Beach       0.60      0.09      0.15        70\n",
            "                   Hikkaduwa Coral Sanctuary       0.77      0.10      0.17       102\n",
            "                                  Hiriketiya       1.00      0.05      0.10        60\n",
            "                            Hiriketiya Beach       1.00      0.00      0.00        18\n",
            "                               Horton Plains       0.43      0.12      0.19       108\n",
            "                 Horton Plains National Park       0.47      0.07      0.12       134\n",
            "                       Jaffna Public Library       0.56      0.24      0.34        91\n",
            "                         Jaya Sri Maha Bodhi       0.60      0.07      0.13        41\n",
            "                                Jungle Beach       0.75      0.24      0.37        49\n",
            "                                Jungle beach       1.00      0.00      0.00        15\n",
            "                                   Kalpitiya       1.00      0.01      0.03        77\n",
            "                            Kalpitiya Lagoon       0.33      0.07      0.11        30\n",
            "                                   Kandalama       0.71      0.09      0.17        53\n",
            "                                       Kandy       0.77      0.23      0.36       240\n",
            "                           Kandy City Centre       0.70      0.57      0.63        54\n",
            "                                  Kandy Lake       0.64      0.18      0.29        49\n",
            "                       Kandy National Museum       0.64      0.50      0.56        32\n",
            "                                Kandy Temple       0.00      0.00      0.00        38\n",
            "      Kanneliya National Rain Forest Reserve       0.43      0.02      0.05       124\n",
            "                         Kanniya Hot Springs       0.62      0.43      0.51        47\n",
            "                                  Kithulgala       1.00      0.04      0.07        52\n",
            "                             Kitugala Forest       0.67      0.07      0.13        28\n",
            "                                   Kitulgala       0.50      0.06      0.11        68\n",
            "                                    Knuckles       0.61      0.12      0.19       147\n",
            "                               Koggala Beach       1.00      0.00      0.00        22\n",
            "                     Kosgoda Turtle Hatchery       0.00      0.00      0.00        26\n",
            "                        Kumana National Park       1.00      0.01      0.03        72\n",
            "                               Leisure World       0.59      0.19      0.29        90\n",
            "                     Lionel Wendt Art Centre       0.56      0.41      0.47        37\n",
            "                                  Madu River       0.69      0.24      0.36       120\n",
            "                 Madunagala Hot Water Spring       0.62      0.46      0.53        46\n",
            "                  Maha Oya Hot Water Springs       0.56      0.45      0.50        40\n",
            "                             Mahalenama Cave       0.64      0.64      0.64        44\n",
            "                     Mahapelessa Hot Springs       0.56      0.38      0.45        40\n",
            "                           Marakolliya Beach       1.00      0.00      0.00        27\n",
            "                             Maritime Museum       0.00      0.00      0.00        29\n",
            "           Martin Wickramasinghe Folk Museum       0.88      0.11      0.20        62\n",
            "                                     Meemure       1.00      0.00      0.00        29\n",
            "                                   Mihintale       0.80      0.03      0.06       127\n",
            "                     Minneriya National Park       0.00      0.00      0.00        62\n",
            "                               Mirissa Beach       0.50      0.05      0.10       204\n",
            "       Museum of Modern and Contemporary Art       0.75      0.32      0.44        38\n",
            "               Nallur Kandaswamy Devasthanam       1.00      0.00      0.00        57\n",
            "                     Nallur Kandaswamy Kovil       0.60      0.05      0.10        55\n",
            "                     National Gallery of Art       0.60      0.22      0.32        41\n",
            "                       National Museum Galle       0.62      0.16      0.25        32\n",
            "                                     Negambo       0.69      0.22      0.33        51\n",
            "                                     Negombo       0.50      0.01      0.02       107\n",
            "                              Negombo Lagoon       0.61      0.20      0.30       123\n",
            "                        Nelum Pokuna Theatre       0.67      0.29      0.41        41\n",
            "                          Nelung Arts Centre       0.58      0.31      0.40        68\n",
            "                              Nilaveli Beach       1.00      0.00      0.00        70\n",
            "                          Nine Arches Bridge       0.29      0.17      0.21        30\n",
            "                                Nuwara Eliya       0.65      0.11      0.19       155\n",
            "                      Nuwara Eliya Golf Club       0.67      0.39      0.49        41\n",
            "                             Passikuda Beach       1.00      0.00      0.00        22\n",
            "                                   Pearl Bay       0.60      0.26      0.36        47\n",
            "                                    Perl Bay       0.73      0.15      0.25        54\n",
            "                            Pidurangala Rock       0.62      0.24      0.34        34\n",
            "                               Pigeon Island       0.50      0.05      0.09       179\n",
            "                                   Pinnawala       0.39      0.16      0.23        55\n",
            "                Pinnawala Elephant Orphanage       0.00      0.00      0.00        38\n",
            "                                  Polonaruwa       0.54      0.12      0.20       106\n",
            "                                 Polonnaruwa       1.00      0.00      0.00        42\n",
            "                    Polonnaruwa Ancient City       0.78      0.09      0.16        81\n",
            "                               Ramboda Falls       1.00      0.00      0.00        25\n",
            "                        Ratnapura Gem Museum       0.35      0.18      0.24        33\n",
            "                        Ravan Ella Waterfall       1.00      0.00      0.00        28\n",
            "                                Rekawa Beach       1.00      0.00      0.00        36\n",
            "                                    Ritigala       0.42      0.57      0.48        35\n",
            "                              Riverstone Gap       0.57      0.09      0.15        45\n",
            "         Royal Botanical Gardens, Peradeniya       0.61      0.45      0.52        38\n",
            "                     Royal Colombo Golf Club       0.52      0.39      0.45        38\n",
            "             Ruhunu Maha Kataragama Dewalaya       1.00      0.00      0.00        33\n",
            "                                Seetha Eliya       1.00      0.00      0.00        33\n",
            "       Seethawaka Wet Zone Botanical Gardens       0.65      0.43      0.52        46\n",
            "                                    Sigiriya       0.75      0.15      0.25       273\n",
            "                    Sinharaja Forest Reserve       0.68      0.14      0.23       123\n",
            "                         Sri Dalada Maligawa       0.71      0.04      0.08       125\n",
            "                       Sri Lanka Planetarium       1.00      0.00      0.00        53\n",
            "                      Sri Pada / Adam's Peak       0.64      0.28      0.39       126\n",
            "                            St Clair's Falls       1.00      0.00      0.00        30\n",
            "                              Surathali Ella       0.71      0.44      0.54        39\n",
            "                                    Tangalle       0.44      0.13      0.20        31\n",
            "                              Tangalle Beach       1.00      0.00      0.00        28\n",
            "                                 Trincomalee       0.59      0.07      0.13       220\n",
            "                         Trincomalee Harbour       0.55      0.22      0.31        78\n",
            "                                   Udawalawe       0.81      0.25      0.38        52\n",
            "                     Udawalawe National Park       1.00      0.00      0.00        74\n",
            "                                   Unawatuna       0.60      0.08      0.15        36\n",
            "                             Unawatuna Beach       0.50      0.14      0.22        76\n",
            "                            Unawatuna Lagoon       0.50      0.09      0.16        32\n",
            "                              Uppuveli Beach       0.00      0.00      0.00        26\n",
            "                      Vaddha Village Camping       0.00      0.00      0.00        34\n",
            "               Velgam Vehera Buddhist Temple       0.43      0.24      0.31        37\n",
            "                          Victoria Golf Club       0.65      0.38      0.48        45\n",
            "                         Viharamahadevi Park       0.87      0.24      0.38        54\n",
            "                     Wasgamuwa National Park       1.00      0.00      0.00        31\n",
            "                           Water World Lanka       0.62      0.16      0.25        50\n",
            "                              Wavulpone Cave       0.57      0.48      0.52        42\n",
            "                              Weligama Beach       1.00      0.00      0.00        31\n",
            "              Weligama Beach (surf and stay)       0.17      0.04      0.06        25\n",
            "                      Wilpattu National Park       0.45      0.08      0.13        64\n",
            "                          Yala National Park       0.60      0.09      0.15       173\n",
            "                      Yapahuwa Rock Fortress       0.50      0.35      0.41        34\n",
            "\n",
            "                                   micro avg       0.59      0.14      0.23      9999\n",
            "                                   macro avg       0.65      0.15      0.20      9999\n",
            "                                weighted avg       0.65      0.14      0.20      9999\n",
            "                                 samples avg       0.79      0.14      0.18      9999\n",
            "\n",
            "Weighted F1 Score: 0.2044\n"
          ]
        }
      ],
      "source": [
        "\n",
        "y_pred = model.predict(X_test)\n",
        "y_pred_classes = (y_pred > 0.5).astype(int)\n",
        "\n",
        "print(\"\\nClassification Report:\")\n",
        "print(classification_report(y_test, y_pred_classes, target_names=place_mlb.classes_, zero_division=1))\n",
        "\n",
        "f1 = f1_score(y_test, y_pred_classes, average='weighted', zero_division=1)\n",
        "print(f\"Weighted F1 Score: {f1:.4f}\")"
      ]
    },
    {
      "cell_type": "markdown",
      "metadata": {},
      "source": [
        "Visualize training progress"
      ]
    },
    {
      "cell_type": "code",
      "execution_count": 11,
      "metadata": {
        "id": "G2P-bG0p2d61"
      },
      "outputs": [
        {
          "data": {
            "image/png": "[encoded data removed]",
            "text/plain": [
              "<Figure size 1200x400 with 2 Axes>"
            ]
          },
          "metadata": {},
          "output_type": "display_data"
        }
      ],
      "source": [
        "plt.figure(figsize=(12, 4))\n",
        "\n",
        "plt.subplot(1, 2, 1)\n",
        "plt.plot(history.history['loss'], label='Training Loss')\n",
        "plt.plot(history.history['val_loss'], label='Validation Loss')\n",
        "plt.title('Model Loss')\n",
        "plt.xlabel('Epoch')\n",
        "plt.ylabel('Loss')\n",
        "plt.legend()\n",
        "\n",
        "plt.subplot(1, 2, 2)\n",
        "plt.plot(history.history['accuracy'], label='Training Accuracy')\n",
        "plt.plot(history.history['val_accuracy'], label='Validation Accuracy')\n",
        "plt.title('Model Accuracy')\n",
        "plt.xlabel('Epoch')\n",
        "plt.ylabel('Accuracy')\n",
        "plt.legend()\n",
        "\n",
        "plt.tight_layout()\n",
        "plt.show()"
      ]
    },
    {
      "cell_type": "markdown",
      "metadata": {},
      "source": [
        "Additional diagnostics"
      ]
    },
    {
      "cell_type": "code",
      "execution_count": 12,
      "metadata": {},
      "outputs": [
        {
          "name": "stdout",
          "output_type": "stream",
          "text": [
            "\n",
            "Additional Diagnostics:\n",
            "Max value in predictions: 0.9655964970588684\n",
            "Min value in predictions: 1.1678962241745694e-09\n",
            "Mean value in predictions: 0.026605254039168358\n",
            "Number of non-zero predictions: 314000\n",
            "Number of predictions above 0.5 threshold: 2408\n"
          ]
        }
      ],
      "source": [
        "print(\"\\nAdditional Diagnostics:\")\n",
        "print(f\"Max value in predictions: {np.max(y_pred)}\")\n",
        "print(f\"Min value in predictions: {np.min(y_pred)}\")\n",
        "print(f\"Mean value in predictions: {np.mean(y_pred)}\")\n",
        "print(f\"Number of non-zero predictions: {np.sum(y_pred > 0)}\")\n",
        "print(f\"Number of predictions above 0.5 threshold: {np.sum(y_pred > 0.5)}\")\n",
        "\n",
        "if np.all(y_pred == y_pred[0]):\n",
        "    print(\"Warning: All predictions are the same!\")\n",
        "\n",
        "if np.isnan(y_pred).any() or np.isinf(y_pred).any():\n",
        "    print(\"Warning: Predictions contain NaN or infinity values!\")"
      ]
    },
    {
      "cell_type": "markdown",
      "metadata": {},
      "source": [
        "Sample predictions"
      ]
    },
    {
      "cell_type": "code",
      "execution_count": 13,
      "metadata": {},
      "outputs": [
        {
          "name": "stdout",
          "output_type": "stream",
          "text": [
            "\n",
            "Sample predictions:\n",
            "Sample 1:\n",
            "True labels: [  1   2  10  81 105]\n",
            "Predicted probabilities: [1.6336418e-03 3.1557006e-01 2.0952815e-01 2.0364594e-02 5.5883080e-04\n",
            " 3.5280291e-06 2.1693214e-04 1.1051353e-05 7.7813384e-03 2.0033811e-04\n",
            " 2.8404748e-01 9.6551346e-04 1.0421834e-03 1.3038870e-03 4.1645058e-04\n",
            " 3.5168178e-04 4.2920723e-04 2.5560230e-04 2.1201263e-03 5.3551374e-03\n",
            " 3.0476606e-01 1.6644949e-01 1.3940312e-03 1.0703462e-03 3.2679830e-04\n",
            " 2.1046855e-02 1.1395525e-02 4.6961891e-04 1.9105808e-01 1.5614554e-02\n",
            " 2.7686285e-04 8.0984959e-04 1.4776560e-03 1.7176151e-05 1.4591585e-03\n",
            " 5.6676462e-04 1.2335270e-04 4.4451054e-02 1.0078374e-04 3.9458918e-04\n",
            " 1.1817669e-03 5.0034566e-04 1.2811398e-02 1.4607458e-02 1.2662070e-03\n",
            " 2.0351130e-05 4.1730996e-04 2.1647342e-02 9.7793136e-06 3.8051549e-02\n",
            " 1.6619839e-02 9.3926573e-03 2.2526886e-01 1.5739126e-02 2.2993030e-03\n",
            " 6.2139030e-03 1.3674357e-03 4.7581797e-03 7.7187218e-02 4.3513803e-05\n",
            " 4.6935268e-03 3.3936547e-03 7.7394228e-03 1.9479118e-01 2.6977742e-03\n",
            " 1.1524186e-01 1.0376028e-02 2.1313504e-05 5.6611648e-04 2.5997468e-04\n",
            " 1.0916444e-03 3.2601831e-03 1.4526048e-02 3.2242143e-04 8.8072322e-02\n",
            " 6.1518960e-03 4.0609469e-03 4.4364517e-04 3.5143492e-03 4.4706240e-03\n",
            " 1.4808438e-03 2.1988590e-01 2.7991775e-03 2.5014125e-03 2.7050287e-04\n",
            " 4.2126640e-03 4.4619148e-03 4.8278575e-04 4.8169509e-02 2.1294031e-04\n",
            " 1.1091115e-03 2.4767739e-03 2.5161895e-01 2.2126442e-02 1.3092891e-02\n",
            " 5.5602742e-03 1.7105838e-02 5.6149712e-04 2.2759417e-02 6.3381465e-03\n",
            " 8.7632172e-02 1.5030719e-03 1.1594675e-02 5.7557888e-02 9.2208014e-05\n",
            " 1.1553181e-01 1.1845727e-03 4.9458360e-03 3.0120574e-03 1.5377559e-03\n",
            " 3.4977024e-04 2.2315621e-02 3.7648093e-03 9.9539051e-05 2.0634159e-04\n",
            " 1.1005633e-02 3.4655345e-04 1.0214244e-03 3.8236936e-04 8.7352539e-04\n",
            " 4.7987854e-04 1.7341247e-04 9.1613121e-03 3.2052583e-05 8.9406292e-04\n",
            " 1.1322444e-04 1.2561509e-04 1.6491067e-05 1.9346091e-03 4.0556840e-03\n",
            " 4.4593145e-03 2.5908812e-03 6.7255535e-04 1.1830610e-03 8.5805281e-05\n",
            " 3.3495972e-01 4.1684983e-03 2.3610873e-02 7.9451092e-02 3.8293486e-03\n",
            " 3.0085543e-04 3.5659163e-03 4.1924454e-02 2.3446314e-01 7.5453450e-03\n",
            " 2.9893612e-04 4.3622886e-06 9.3506818e-04 5.4579624e-03 2.0923748e-04\n",
            " 2.3310015e-03 2.1133614e-04 3.1286476e-03 2.5996479e-01 3.9057045e-03\n",
            " 8.7326234e-03 7.3490351e-05]\n",
            "Predicted labels: []\n",
            "\n",
            "Sample 2:\n",
            "True labels: [ 38  49  57 128 129]\n",
            "Predicted probabilities: [1.19855631e-05 5.63035974e-06 1.29843716e-06 8.16085562e-03\n",
            " 6.00727362e-05 1.66446684e-04 1.43165083e-03 1.20987397e-05\n",
            " 2.00450681e-02 4.24417303e-05 2.22820890e-05 1.50784053e-05\n",
            " 2.94522270e-05 1.40975480e-05 6.91442474e-05 3.30743023e-05\n",
            " 2.19268203e-02 5.03900155e-05 1.80540793e-03 9.09133996e-06\n",
            " 1.27890124e-03 2.26574116e-06 1.33180674e-05 3.48628673e-05\n",
            " 1.95441837e-03 1.57458056e-02 6.24395325e-04 1.26870191e-05\n",
            " 2.98933854e-04 2.89619178e-01 3.15188523e-03 8.61229910e-06\n",
            " 1.80456227e-05 1.66450045e-05 1.46584935e-05 1.34783068e-05\n",
            " 3.19089368e-02 1.83980823e-01 5.24996519e-02 2.28347052e-02\n",
            " 9.08156508e-05 1.07599008e-05 1.03755035e-02 7.31393986e-04\n",
            " 9.75784212e-02 4.07271116e-04 2.89196870e-03 1.09413275e-04\n",
            " 1.84946384e-05 2.73849159e-01 4.99007478e-02 4.45840042e-03\n",
            " 2.91179367e-05 1.15465482e-04 4.00565425e-03 1.31280840e-05\n",
            " 1.39606535e-01 2.28334397e-01 5.87229431e-03 8.65767244e-04\n",
            " 4.28641739e-04 1.28338361e-05 2.95705249e-04 2.26495695e-06\n",
            " 8.27062428e-02 1.17652319e-01 4.57000657e-04 1.73064236e-05\n",
            " 1.61919361e-05 4.20477372e-05 1.81796730e-01 8.80691005e-06\n",
            " 5.23535209e-03 1.72217153e-02 6.04116758e-05 2.53668994e-01\n",
            " 6.74647436e-06 3.97741096e-04 6.79623056e-03 2.40291026e-03\n",
            " 1.86282792e-04 6.53919356e-04 1.20158120e-05 1.09653101e-05\n",
            " 6.08667688e-05 8.53046640e-06 1.59326537e-05 7.68052269e-06\n",
            " 8.21669213e-03 1.04381610e-02 1.90970022e-02 3.29742860e-03\n",
            " 1.68060383e-03 1.46457940e-04 1.26258759e-02 1.43102196e-03\n",
            " 2.12361439e-04 1.37209718e-05 1.37382129e-04 1.95171544e-03\n",
            " 9.45670836e-05 1.36743562e-04 3.99685261e-04 4.86762729e-05\n",
            " 1.68046013e-01 2.45577842e-01 2.20065215e-03 7.64865308e-06\n",
            " 2.15581292e-03 5.72374083e-05 3.99689004e-03 7.02973863e-04\n",
            " 8.15524545e-05 4.61242199e-02 2.05852301e-03 1.06876995e-03\n",
            " 3.04880552e-02 2.39712390e-05 1.95472567e-05 1.05760173e-05\n",
            " 3.42935586e-04 3.24231914e-05 2.26317206e-05 3.98020748e-05\n",
            " 4.53177979e-03 3.50675327e-05 3.66527165e-05 1.67274520e-05\n",
            " 3.03636551e-01 2.00655967e-01 2.13232543e-03 1.42551344e-02\n",
            " 1.09212594e-02 1.66399095e-05 4.38675936e-03 9.11910138e-06\n",
            " 6.12853819e-06 5.68143371e-03 2.27049204e-05 1.22950965e-04\n",
            " 3.55961658e-02 1.64531681e-04 9.74108872e-04 1.60465390e-06\n",
            " 1.05146728e-05 1.03756757e-02 1.98207257e-04 2.66331341e-03\n",
            " 4.79934562e-04 1.62170338e-03 2.97009782e-03 5.46261435e-05\n",
            " 1.61764856e-05 9.05314209e-06 4.38942574e-03 2.89391130e-01\n",
            " 3.35637876e-03]\n",
            "Predicted labels: []\n",
            "\n",
            "Sample 3:\n",
            "True labels: [ 78  98 142 154 155]\n",
            "Predicted probabilities: [2.08061138e-05 1.28597184e-03 1.88784534e-03 1.67795662e-02\n",
            " 6.20816601e-04 2.50557036e-06 1.35149469e-03 4.61960881e-04\n",
            " 4.60639945e-04 2.56709495e-06 1.41676096e-03 2.57167994e-05\n",
            " 1.13254737e-05 1.34483525e-05 9.28177033e-04 1.06838546e-04\n",
            " 1.16398372e-03 6.30851355e-05 7.54922396e-03 1.20236866e-04\n",
            " 3.69919658e-01 2.35799537e-03 1.96746732e-05 4.88432015e-05\n",
            " 2.15556053e-03 1.34761870e-01 2.30081394e-04 2.07903111e-04\n",
            " 1.81673579e-02 7.81503879e-03 9.54612406e-05 1.63021286e-05\n",
            " 1.80139341e-05 1.18572614e-04 2.23950592e-05 1.84729433e-04\n",
            " 2.62715276e-02 1.21405059e-02 5.30360092e-04 1.95723842e-03\n",
            " 2.70553690e-04 1.58147188e-04 2.55266726e-01 3.86414846e-04\n",
            " 4.61917953e-05 2.26377393e-04 4.09009313e-04 1.07547001e-03\n",
            " 8.27275144e-05 8.15141201e-03 3.40322172e-03 5.43939434e-02\n",
            " 1.20204249e-02 1.38743296e-02 5.71830459e-02 8.81818341e-05\n",
            " 6.76549366e-03 2.26357523e-02 2.37660576e-02 1.82695146e-06\n",
            " 2.81785778e-03 1.11884357e-04 2.77626198e-02 2.49340525e-03\n",
            " 4.62505082e-03 7.10068569e-02 2.03052376e-04 2.94555270e-04\n",
            " 1.17663556e-04 3.44543196e-06 1.27634615e-01 2.72731791e-04\n",
            " 4.05254774e-03 7.83146475e-04 7.88750965e-03 1.51866172e-02\n",
            " 1.11894602e-04 5.07853867e-04 1.25917360e-01 1.00576086e-03\n",
            " 7.98481400e-04 1.50511310e-01 2.34182036e-04 2.62382848e-04\n",
            " 1.15000686e-04 3.86459113e-04 1.34627058e-04 1.36127026e-04\n",
            " 1.97249912e-02 4.80453164e-04 1.23459176e-05 3.93960327e-01\n",
            " 1.29545435e-01 1.08073151e-03 6.33192156e-03 1.30596687e-03\n",
            " 1.54951494e-03 1.52757711e-04 2.30300099e-01 1.06648646e-01\n",
            " 1.55817615e-02 8.62582296e-04 2.33121356e-03 1.51985465e-02\n",
            " 2.53791513e-04 3.01081892e-02 5.05118980e-04 1.07850676e-04\n",
            " 6.03728928e-04 2.16840956e-04 3.16789810e-04 2.74998639e-02\n",
            " 2.39824150e-02 2.06718743e-02 3.91441456e-04 8.31340323e-04\n",
            " 6.02228511e-06 2.98006416e-05 1.55246831e-04 1.96275978e-05\n",
            " 7.26926723e-04 7.27900915e-05 3.68387438e-03 2.20296119e-04\n",
            " 4.67259495e-04 4.46827878e-04 3.53937823e-04 1.07435786e-04\n",
            " 9.82364523e-04 2.35068165e-02 1.97001034e-03 6.53608702e-03\n",
            " 1.12623908e-03 1.61668613e-05 2.56594358e-04 1.40486658e-03\n",
            " 1.18043747e-04 3.09883058e-01 5.37257874e-03 2.15493441e-02\n",
            " 1.27355874e-01 1.40420357e-02 1.77698657e-01 3.56651959e-03\n",
            " 1.66416357e-04 6.02674845e-04 3.40532051e-06 4.42510442e-04\n",
            " 2.31915410e-03 1.56034589e-01 6.64037187e-04 4.40515687e-05\n",
            " 6.47184532e-03 1.59388548e-03 3.84206623e-01 3.61242265e-01\n",
            " 2.66961288e-04]\n",
            "Predicted labels: []\n",
            "\n",
            "Sample 4:\n",
            "True labels: [ 8 30 35 68 87]\n",
            "Predicted probabilities: [2.17215886e-04 2.88950442e-03 1.08746448e-04 1.92926533e-03\n",
            " 4.18892887e-04 2.69864015e-02 1.02225342e-04 1.51412946e-03\n",
            " 1.36286899e-01 1.03067886e-02 3.04915267e-03 1.55192523e-04\n",
            " 1.97516958e-04 3.23142449e-04 5.45915740e-04 3.16179520e-03\n",
            " 1.17374366e-05 2.72654602e-03 5.09204052e-04 7.39076950e-06\n",
            " 3.43466154e-03 4.87929246e-05 1.32481116e-04 1.22222729e-04\n",
            " 1.01537422e-04 1.53064057e-02 3.15918791e-04 4.44918394e-01\n",
            " 3.32449488e-02 3.85190058e-03 2.49294505e-01 1.28142172e-04\n",
            " 1.51594257e-04 1.94020418e-03 1.59585965e-04 3.38048369e-01\n",
            " 4.89445192e-05 2.40305457e-02 2.82898778e-04 7.76418764e-03\n",
            " 1.76268909e-03 4.26910371e-01 6.40779966e-03 3.24428169e-04\n",
            " 5.50705865e-02 2.26782523e-02 1.06632349e-03 1.21026555e-04\n",
            " 1.90616725e-03 8.89723096e-03 3.70604335e-03 8.55671475e-04\n",
            " 7.18543213e-03 2.47463747e-03 1.43266097e-03 9.22568688e-06\n",
            " 1.87345245e-03 5.44307334e-03 1.83218147e-03 2.49676943e-01\n",
            " 2.50259787e-03 3.09860616e-06 1.97684625e-03 1.23097823e-04\n",
            " 1.85717747e-03 2.69991513e-02 3.48004251e-04 2.60417745e-03\n",
            " 5.11168599e-01 1.34670716e-02 5.29447629e-04 7.99190195e-04\n",
            " 1.09704053e-02 8.93528886e-06 5.22244163e-03 2.56213685e-03\n",
            " 8.82954828e-06 9.97860552e-05 1.96532754e-04 3.53157078e-03\n",
            " 5.25854586e-04 2.65362021e-03 8.79087893e-04 1.06196525e-03\n",
            " 3.03729251e-03 8.87432310e-04 7.02902435e-06 3.48002404e-01\n",
            " 2.06614053e-03 1.61485423e-05 3.05397660e-01 3.32038981e-05\n",
            " 1.84718054e-02 7.88104517e-05 9.27168224e-03 1.23311048e-02\n",
            " 1.80025454e-04 4.28350896e-01 1.51883360e-04 1.58058770e-03\n",
            " 1.20795304e-02 4.27019724e-04 8.04654264e-04 1.06247282e-03\n",
            " 1.44728314e-04 1.25111304e-02 6.55171636e-04 4.46719832e-06\n",
            " 1.49907824e-03 1.86948152e-03 6.51948852e-04 5.75619610e-03\n",
            " 1.68341293e-03 4.26836414e-05 1.57923419e-02 2.15262026e-02\n",
            " 4.49469835e-02 1.25954408e-04 4.64623183e-01 8.53877718e-05\n",
            " 1.78462142e-04 2.46942299e-03 1.27109839e-03 3.47395428e-03\n",
            " 9.58023418e-04 5.54225314e-03 5.26739750e-03 1.65914989e-03\n",
            " 8.82343948e-02 4.98399022e-04 6.87383413e-02 7.77675398e-03\n",
            " 2.67404944e-01 1.98225971e-04 1.76659727e-04 5.87556278e-03\n",
            " 9.30810529e-06 4.96934680e-03 6.04118546e-03 1.73298491e-03\n",
            " 6.56581979e-05 5.48724958e-04 1.95492827e-03 7.95999586e-05\n",
            " 6.86102703e-06 1.16130132e-05 1.89500786e-02 4.08658554e-04\n",
            " 2.54118023e-03 1.18038779e-05 8.30486126e-04 3.18609946e-03\n",
            " 2.45018833e-04 3.55353206e-03 5.71385353e-05 6.62740145e-04\n",
            " 1.28733824e-04]\n",
            "Predicted labels: [68]\n",
            "\n",
            "Sample 5:\n",
            "True labels: [  7  45  67 114 139]\n",
            "Predicted probabilities: [2.80016229e-05 3.94937815e-05 3.61884463e-06 9.27582197e-03\n",
            " 8.93820688e-05 1.98915671e-03 4.86824661e-04 4.97634798e-01\n",
            " 1.46914110e-01 3.48342219e-05 3.40304323e-05 5.23378403e-05\n",
            " 2.39741657e-05 3.30958792e-05 1.13601876e-04 6.48928457e-04\n",
            " 1.85465105e-05 3.96119343e-04 9.46674671e-04 3.42683791e-07\n",
            " 1.54023580e-02 4.37184281e-06 2.18077585e-05 5.77763640e-05\n",
            " 4.53736837e-04 7.88155291e-03 4.27029408e-05 4.87596588e-03\n",
            " 1.73968021e-02 1.56926345e-02 8.31104163e-03 3.56820674e-05\n",
            " 3.61815546e-05 1.98728521e-03 1.47841720e-05 2.92718993e-03\n",
            " 4.40917029e-05 1.73673443e-02 5.47575438e-03 4.84460033e-03\n",
            " 1.72553044e-02 5.06237149e-03 1.83167271e-02 5.26841650e-05\n",
            " 1.45464288e-02 2.76217878e-01 1.06561510e-03 6.77630014e-04\n",
            " 2.64630048e-03 1.89189389e-02 2.15694145e-03 9.11556184e-03\n",
            " 3.37944453e-04 8.03263392e-05 6.92525180e-03 3.38924650e-07\n",
            " 2.44328491e-02 8.29531625e-03 5.62695088e-03 2.34568631e-03\n",
            " 1.62977492e-03 4.14912790e-07 1.02939189e-03 4.90277125e-06\n",
            " 1.42263770e-02 1.19088935e-02 2.97714105e-05 3.87482315e-01\n",
            " 3.72548564e-03 3.61174316e-05 6.29245362e-04 6.26657798e-04\n",
            " 4.14810656e-03 2.50634166e-05 2.03365882e-04 4.49080719e-03\n",
            " 6.41497252e-07 2.70349497e-04 1.92317925e-03 3.67047668e-01\n",
            " 5.93145704e-03 9.54323169e-03 6.89862238e-04 8.06468888e-04\n",
            " 6.12061238e-04 8.52631638e-04 5.06739752e-07 3.05286376e-03\n",
            " 4.57382947e-03 1.96230867e-05 2.48096921e-02 1.06489367e-03\n",
            " 2.21981294e-02 8.07719072e-04 6.80578989e-04 1.08013708e-04\n",
            " 1.69257086e-03 2.62766960e-03 1.53732707e-03 3.06705106e-03\n",
            " 4.94258013e-03 4.48603043e-03 1.07715018e-02 1.27632055e-04\n",
            " 6.65112093e-05 1.59096457e-02 1.35428424e-03 3.84402625e-07\n",
            " 3.35890412e-01 1.24635380e-02 8.97942402e-04 1.12284685e-03\n",
            " 3.20486605e-01 2.70128767e-05 5.19547701e-01 1.54013671e-02\n",
            " 5.11234254e-03 4.89426529e-05 3.00492602e-03 3.55061675e-05\n",
            " 2.74751568e-04 7.66376790e-04 9.33463525e-05 2.07025907e-03\n",
            " 1.23224233e-03 4.76851965e-05 4.43154167e-05 1.44504302e-03\n",
            " 9.52870622e-02 6.43824053e-04 3.57379613e-04 8.01506452e-03\n",
            " 1.72567442e-02 4.65121811e-05 5.49738703e-04 6.45725013e-05\n",
            " 5.57095802e-07 1.50533160e-02 2.36111134e-03 2.59389311e-01\n",
            " 2.85211834e-04 1.37294387e-03 8.71403981e-03 2.99086219e-06\n",
            " 9.37106108e-07 1.19831511e-05 2.33708625e-03 1.10793137e-03\n",
            " 1.43012404e-03 1.86593868e-04 2.74332851e-01 6.42953266e-04\n",
            " 2.40603869e-04 6.93322872e-05 1.22312305e-03 5.33844111e-03\n",
            " 3.20557359e-04]\n",
            "Predicted labels: [114]\n",
            "\n"
          ]
        }
      ],
      "source": [
        "print(\"\\nSample predictions:\")\n",
        "for i in range(5):\n",
        "    print(f\"Sample {i+1}:\")\n",
        "    print(\"True labels:\", y_test[i].nonzero()[0])\n",
        "    print(\"Predicted probabilities:\", y_pred[i][y_pred[i] > 0])\n",
        "    print(\"Predicted labels:\", y_pred_classes[i].nonzero()[0])\n",
        "    print()"
      ]
    },
    {
      "cell_type": "markdown",
      "metadata": {},
      "source": [
        "Recommendations"
      ]
    },
    {
      "cell_type": "code",
      "execution_count": 14,
      "metadata": {},
      "outputs": [],
      "source": [
        "def get_recommendations(user_activities, model, place_mlb, places_df, top_n=5):\n",
        "    predictions = model.predict(user_activities.reshape(1, -1))\n",
        "    \n",
        "    top_indices = predictions.argsort()[0][::-1][:top_n]\n",
        "    \n",
        "    recommended_places = place_mlb.classes_[top_indices]\n",
        "\n",
        "    recommendations = places_df[places_df['name'].isin(recommended_places)]\n",
        "    \n",
        "    top_n_adjusted = min(len(recommendations), top_n)\n",
        "\n",
        "    recommendations = recommendations.head(top_n_adjusted)\n",
        "    recommendations['score'] = predictions[0][top_indices][:top_n_adjusted]\n",
        "    \n",
        "    return recommendations.sort_values('score', ascending=False)"
      ]
    },
    {
      "cell_type": "markdown",
      "metadata": {},
      "source": [
        "Get recommendations for a sample user"
      ]
    },
    {
      "cell_type": "code",
      "execution_count": 15,
      "metadata": {},
      "outputs": [
        {
          "name": "stdout",
          "output_type": "stream",
          "text": [
            "\u001b[1m1/1\u001b[0m \u001b[32m━━━━━━━━━━━━━━━━━━━━\u001b[0m\u001b[37m\u001b[0m \u001b[1m0s\u001b[0m 28ms/step\n",
            "\n",
            "Top 5 recommendations for User ID 354:\n",
            "             name   formatted_address  rating     score\n",
            "1   Mirissa Beach  Mirissa, Sri Lanka     4.6  0.554260\n",
            "94     Kandy Lake    Kandy, Sri Lanka     4.7  0.524235\n"
          ]
        }
      ],
      "source": [
        "user_id = 354\n",
        "user_index = visitors_df[visitors_df['User ID'] == user_id].index[0]\n",
        "user_activity_vector = user_activities[user_index]\n",
        "\n",
        "recommendations = get_recommendations(user_activity_vector, model, place_mlb, places_df)\n",
        "\n",
        "print(f\"\\nTop 5 recommendations for User ID {user_id}:\")\n",
        "print(recommendations[['name', 'formatted_address', 'rating', 'score']])"
      ]
    },
    {
      "cell_type": "markdown",
      "metadata": {},
      "source": [
        "Save Model"
      ]
    },
    {
      "cell_type": "code",
      "execution_count": 16,
      "metadata": {},
      "outputs": [
        {
          "name": "stderr",
          "output_type": "stream",
          "text": [
            "WARNING:absl:You are saving your model as an HDF5 file via `model.save()` or `keras.saving.save_model(model)`. This file format is considered legacy. We recommend using instead the native Keras format, e.g. `model.save('my_model.keras')` or `keras.saving.save_model(model, 'my_model.keras')`. \n"
          ]
        },
        {
          "name": "stdout",
          "output_type": "stream",
          "text": [
            "Model saved successfully as 'recommendation_model.h5'\n"
          ]
        }
      ],
      "source": [
        "model.save('recommendation_model.h5')\n",
        "print(\"Model saved successfully as 'recommendation_model.h5'\")"
      ]
    }
  ],
  "metadata": {
    "colab": {
      "provenance": []
    },
    "kernelspec": {
      "display_name": "Python 3",
      "name": "python3"
    },
    "language_info": {
      "codemirror_mode": {
        "name": "ipython",
        "version": 3
      },
      "file_extension": ".py",
      "mimetype": "text/x-python",
      "name": "python",
      "nbconvert_exporter": "python",
      "pygments_lexer": "ipython3",
      "version": "3.10.14"
    }
  },
  "nbformat": 4,
  "nbformat_minor": 0
}
